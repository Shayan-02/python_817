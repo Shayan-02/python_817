{
 "cells": [
  {
   "cell_type": "code",
   "execution_count": 52,
   "metadata": {},
   "outputs": [],
   "source": [
    "import random\n",
    "import string"
   ]
  },
  {
   "cell_type": "code",
   "execution_count": 3,
   "metadata": {},
   "outputs": [
    {
     "name": "stdout",
     "output_type": "stream",
     "text": [
      "59\n",
      "79\n",
      "69\n",
      "69\n",
      "47\n",
      "5\n",
      "61\n",
      "17\n",
      "7\n",
      "82\n",
      "34\n",
      "48\n",
      "30\n",
      "69\n",
      "100\n",
      "84\n",
      "92\n",
      "72\n",
      "98\n",
      "3\n",
      "53\n",
      "85\n",
      "96\n",
      "54\n",
      "22\n",
      "99\n",
      "65\n",
      "13\n",
      "9\n",
      "4\n",
      "84\n",
      "13\n",
      "56\n",
      "85\n",
      "19\n",
      "35\n",
      "74\n",
      "3\n",
      "83\n",
      "89\n",
      "33\n",
      "33\n",
      "66\n",
      "82\n",
      "95\n",
      "52\n",
      "65\n",
      "6\n",
      "8\n",
      "38\n",
      "97\n",
      "1\n",
      "33\n",
      "49\n",
      "15\n",
      "74\n",
      "47\n",
      "34\n",
      "28\n",
      "79\n",
      "66\n",
      "13\n",
      "72\n",
      "13\n",
      "67\n",
      "53\n",
      "80\n",
      "100\n",
      "91\n",
      "66\n",
      "59\n",
      "10\n",
      "95\n",
      "94\n",
      "16\n",
      "34\n",
      "80\n",
      "23\n",
      "45\n",
      "82\n",
      "82\n",
      "7\n",
      "87\n",
      "14\n",
      "57\n",
      "34\n",
      "5\n",
      "75\n",
      "78\n",
      "13\n",
      "7\n",
      "49\n",
      "14\n",
      "69\n",
      "46\n",
      "77\n",
      "86\n",
      "75\n",
      "70\n",
      "35\n"
     ]
    }
   ],
   "source": [
    "for i in range(100):\n",
    "    a = random.randint(1, 100)\n",
    "    print(a)"
   ]
  },
  {
   "cell_type": "code",
   "execution_count": 12,
   "metadata": {},
   "outputs": [
    {
     "data": {
      "text/plain": [
       "'paper'"
      ]
     },
     "execution_count": 12,
     "metadata": {},
     "output_type": "execute_result"
    }
   ],
   "source": [
    "choices = {'rock', 'paper', 'scissors'}\n",
    "b = random.choice(list(choices))\n",
    "b"
   ]
  },
  {
   "cell_type": "code",
   "execution_count": 36,
   "metadata": {},
   "outputs": [
    {
     "data": {
      "text/plain": [
       "1.9926730442480194"
      ]
     },
     "execution_count": 36,
     "metadata": {},
     "output_type": "execute_result"
    }
   ],
   "source": [
    "c = random.uniform(1.5,2.75)\n",
    "c"
   ]
  },
  {
   "cell_type": "code",
   "execution_count": 74,
   "metadata": {},
   "outputs": [
    {
     "name": "stdout",
     "output_type": "stream",
     "text": [
      "RcpFN"
     ]
    }
   ],
   "source": [
    "password = ''.join(string.ascii_letters + string.digits)\n",
    "l = int(input(\"enter your password lenght: \"))\n",
    "d = random.sample(password,l)\n",
    "for i in d:\n",
    "        print(i, end='')"
   ]
  },
  {
   "cell_type": "code",
   "execution_count": 44,
   "metadata": {},
   "outputs": [
    {
     "data": {
      "text/plain": [
       "0.7666729813472068"
      ]
     },
     "execution_count": 44,
     "metadata": {},
     "output_type": "execute_result"
    }
   ],
   "source": [
    "e = random.random()\n",
    "e"
   ]
  },
  {
   "cell_type": "code",
   "execution_count": 48,
   "metadata": {},
   "outputs": [
    {
     "name": "stdout",
     "output_type": "stream",
     "text": [
      "10\n"
     ]
    }
   ],
   "source": [
    "start = int(input(\"start: \"))\n",
    "end = int(input(\"end: \"))\n",
    "print(min((start, end)))"
   ]
  },
  {
   "cell_type": "code",
   "execution_count": 75,
   "metadata": {},
   "outputs": [
    {
     "name": "stdout",
     "output_type": "stream",
     "text": [
      "<class 'int'>\n"
     ]
    }
   ],
   "source": [
    "a = 10\n",
    "print(type(a))"
   ]
  },
  {
   "cell_type": "code",
   "execution_count": null,
   "metadata": {},
   "outputs": [],
   "source": [
    "lst = []\n",
    "lst.append(\"1\")"
   ]
  },
  {
   "cell_type": "code",
   "execution_count": null,
   "metadata": {},
   "outputs": [
    {
     "ename": "TypeError",
     "evalue": "'Label' object is not callable",
     "output_type": "error",
     "traceback": [
      "\u001b[1;31m---------------------------------------------------------------------------\u001b[0m",
      "\u001b[1;31mTypeError\u001b[0m                                 Traceback (most recent call last)",
      "Cell \u001b[1;32mIn[87], line 7\u001b[0m\n\u001b[0;32m      4\u001b[0m l \u001b[38;5;241m=\u001b[39m tk\u001b[38;5;241m.\u001b[39mLabel()\n\u001b[0;32m      5\u001b[0m root\u001b[38;5;241m.\u001b[39mtitle(\u001b[38;5;124m'\u001b[39m\u001b[38;5;124mMy Window\u001b[39m\u001b[38;5;124m'\u001b[39m)\n\u001b[1;32m----> 7\u001b[0m label \u001b[38;5;241m=\u001b[39m \u001b[43ml\u001b[49m\u001b[43m(\u001b[49m\u001b[43mroot\u001b[49m\u001b[43m,\u001b[49m\u001b[43m \u001b[49m\u001b[43mtext\u001b[49m\u001b[38;5;241;43m=\u001b[39;49m\u001b[38;5;124;43m\"\u001b[39;49m\u001b[38;5;124;43mHello World\u001b[39;49m\u001b[38;5;124;43m\"\u001b[39;49m\u001b[43m)\u001b[49m\u001b[38;5;241m.\u001b[39mpack()\n\u001b[0;32m      8\u001b[0m root\u001b[38;5;241m.\u001b[39mmainloop()\n",
      "\u001b[1;31mTypeError\u001b[0m: 'Label' object is not callable"
     ]
    }
   ],
   "source": [
    "import tkinter as tk\n",
    "\n",
    "root = tk.Tk()\n",
    "\n",
    "root.title('My Window')\n",
    "\n",
    "label = l(root, text=\"Hello World\").pack()\n",
    "root.mainloop()"
   ]
  }
 ],
 "metadata": {
  "kernelspec": {
   "display_name": "Python 3",
   "language": "python",
   "name": "python3"
  },
  "language_info": {
   "codemirror_mode": {
    "name": "ipython",
    "version": 3
   },
   "file_extension": ".py",
   "mimetype": "text/x-python",
   "name": "python",
   "nbconvert_exporter": "python",
   "pygments_lexer": "ipython3",
   "version": "3.12.4"
  }
 },
 "nbformat": 4,
 "nbformat_minor": 2
}
