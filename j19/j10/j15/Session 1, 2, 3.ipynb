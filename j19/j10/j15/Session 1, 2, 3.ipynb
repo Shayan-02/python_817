{
 "cells": [
  {
   "cell_type": "markdown",
   "id": "c88cb554",
   "metadata": {},
   "source": [
    "# 1. NumPy"
   ]
  },
  {
   "cell_type": "code",
   "execution_count": 4,
   "id": "9c755588",
   "metadata": {},
   "outputs": [],
   "source": [
    "import numpy as np"
   ]
  },
  {
   "cell_type": "markdown",
   "id": "b733f0cb",
   "metadata": {},
   "source": [
    "# 2. NumPy array"
   ]
  },
  {
   "cell_type": "markdown",
   "id": "63c98c6a",
   "metadata": {},
   "source": [
    "## A single scalar to array"
   ]
  },
  {
   "cell_type": "code",
   "execution_count": 5,
   "id": "b71d8837",
   "metadata": {},
   "outputs": [
    {
     "ename": "FileNotFoundError",
     "evalue": "No such file or directory: 'Untitled-1.png'",
     "output_type": "error",
     "traceback": [
      "\u001b[1;31m---------------------------------------------------------------------------\u001b[0m",
      "\u001b[1;31mTypeError\u001b[0m                                 Traceback (most recent call last)",
      "File \u001b[1;32m~\\AppData\\Roaming\\Python\\Python313\\site-packages\\IPython\\core\\display.py:1128\u001b[0m, in \u001b[0;36mImage._data_and_metadata\u001b[1;34m(self, always_both)\u001b[0m\n\u001b[0;32m   1127\u001b[0m \u001b[38;5;28;01mtry\u001b[39;00m:\n\u001b[1;32m-> 1128\u001b[0m     b64_data \u001b[38;5;241m=\u001b[39m \u001b[43mb2a_base64\u001b[49m\u001b[43m(\u001b[49m\u001b[38;5;28;43mself\u001b[39;49m\u001b[38;5;241;43m.\u001b[39;49m\u001b[43mdata\u001b[49m\u001b[43m,\u001b[49m\u001b[43m \u001b[49m\u001b[43mnewline\u001b[49m\u001b[38;5;241;43m=\u001b[39;49m\u001b[38;5;28;43;01mFalse\u001b[39;49;00m\u001b[43m)\u001b[49m\u001b[38;5;241m.\u001b[39mdecode(\u001b[38;5;124m\"\u001b[39m\u001b[38;5;124mascii\u001b[39m\u001b[38;5;124m\"\u001b[39m)\n\u001b[0;32m   1129\u001b[0m \u001b[38;5;28;01mexcept\u001b[39;00m \u001b[38;5;167;01mTypeError\u001b[39;00m \u001b[38;5;28;01mas\u001b[39;00m e:\n",
      "\u001b[1;31mTypeError\u001b[0m: a bytes-like object is required, not 'str'",
      "\nThe above exception was the direct cause of the following exception:\n",
      "\u001b[1;31mFileNotFoundError\u001b[0m                         Traceback (most recent call last)",
      "File \u001b[1;32m~\\AppData\\Roaming\\Python\\Python313\\site-packages\\IPython\\core\\formatters.py:1036\u001b[0m, in \u001b[0;36mMimeBundleFormatter.__call__\u001b[1;34m(self, obj, include, exclude)\u001b[0m\n\u001b[0;32m   1033\u001b[0m     method \u001b[38;5;241m=\u001b[39m get_real_method(obj, \u001b[38;5;28mself\u001b[39m\u001b[38;5;241m.\u001b[39mprint_method)\n\u001b[0;32m   1035\u001b[0m     \u001b[38;5;28;01mif\u001b[39;00m method \u001b[38;5;129;01mis\u001b[39;00m \u001b[38;5;129;01mnot\u001b[39;00m \u001b[38;5;28;01mNone\u001b[39;00m:\n\u001b[1;32m-> 1036\u001b[0m         \u001b[38;5;28;01mreturn\u001b[39;00m \u001b[43mmethod\u001b[49m\u001b[43m(\u001b[49m\u001b[43minclude\u001b[49m\u001b[38;5;241;43m=\u001b[39;49m\u001b[43minclude\u001b[49m\u001b[43m,\u001b[49m\u001b[43m \u001b[49m\u001b[43mexclude\u001b[49m\u001b[38;5;241;43m=\u001b[39;49m\u001b[43mexclude\u001b[49m\u001b[43m)\u001b[49m\n\u001b[0;32m   1037\u001b[0m     \u001b[38;5;28;01mreturn\u001b[39;00m \u001b[38;5;28;01mNone\u001b[39;00m\n\u001b[0;32m   1038\u001b[0m \u001b[38;5;28;01melse\u001b[39;00m:\n",
      "File \u001b[1;32m~\\AppData\\Roaming\\Python\\Python313\\site-packages\\IPython\\core\\display.py:1118\u001b[0m, in \u001b[0;36mImage._repr_mimebundle_\u001b[1;34m(self, include, exclude)\u001b[0m\n\u001b[0;32m   1116\u001b[0m \u001b[38;5;28;01mif\u001b[39;00m \u001b[38;5;28mself\u001b[39m\u001b[38;5;241m.\u001b[39membed:\n\u001b[0;32m   1117\u001b[0m     mimetype \u001b[38;5;241m=\u001b[39m \u001b[38;5;28mself\u001b[39m\u001b[38;5;241m.\u001b[39m_mimetype\n\u001b[1;32m-> 1118\u001b[0m     data, metadata \u001b[38;5;241m=\u001b[39m \u001b[38;5;28;43mself\u001b[39;49m\u001b[38;5;241;43m.\u001b[39;49m\u001b[43m_data_and_metadata\u001b[49m\u001b[43m(\u001b[49m\u001b[43malways_both\u001b[49m\u001b[38;5;241;43m=\u001b[39;49m\u001b[38;5;28;43;01mTrue\u001b[39;49;00m\u001b[43m)\u001b[49m\n\u001b[0;32m   1119\u001b[0m     \u001b[38;5;28;01mif\u001b[39;00m metadata:\n\u001b[0;32m   1120\u001b[0m         metadata \u001b[38;5;241m=\u001b[39m {mimetype: metadata}\n",
      "File \u001b[1;32m~\\AppData\\Roaming\\Python\\Python313\\site-packages\\IPython\\core\\display.py:1130\u001b[0m, in \u001b[0;36mImage._data_and_metadata\u001b[1;34m(self, always_both)\u001b[0m\n\u001b[0;32m   1128\u001b[0m     b64_data \u001b[38;5;241m=\u001b[39m b2a_base64(\u001b[38;5;28mself\u001b[39m\u001b[38;5;241m.\u001b[39mdata, newline\u001b[38;5;241m=\u001b[39m\u001b[38;5;28;01mFalse\u001b[39;00m)\u001b[38;5;241m.\u001b[39mdecode(\u001b[38;5;124m\"\u001b[39m\u001b[38;5;124mascii\u001b[39m\u001b[38;5;124m\"\u001b[39m)\n\u001b[0;32m   1129\u001b[0m \u001b[38;5;28;01mexcept\u001b[39;00m \u001b[38;5;167;01mTypeError\u001b[39;00m \u001b[38;5;28;01mas\u001b[39;00m e:\n\u001b[1;32m-> 1130\u001b[0m     \u001b[38;5;28;01mraise\u001b[39;00m \u001b[38;5;167;01mFileNotFoundError\u001b[39;00m(\n\u001b[0;32m   1131\u001b[0m         \u001b[38;5;124m\"\u001b[39m\u001b[38;5;124mNo such file or directory: \u001b[39m\u001b[38;5;124m'\u001b[39m\u001b[38;5;132;01m%s\u001b[39;00m\u001b[38;5;124m'\u001b[39m\u001b[38;5;124m\"\u001b[39m \u001b[38;5;241m%\u001b[39m (\u001b[38;5;28mself\u001b[39m\u001b[38;5;241m.\u001b[39mdata)) \u001b[38;5;28;01mfrom\u001b[39;00m \u001b[38;5;21;01me\u001b[39;00m\n\u001b[0;32m   1132\u001b[0m md \u001b[38;5;241m=\u001b[39m {}\n\u001b[0;32m   1133\u001b[0m \u001b[38;5;28;01mif\u001b[39;00m \u001b[38;5;28mself\u001b[39m\u001b[38;5;241m.\u001b[39mmetadata:\n",
      "\u001b[1;31mFileNotFoundError\u001b[0m: No such file or directory: 'Untitled-1.png'"
     ]
    },
    {
     "ename": "FileNotFoundError",
     "evalue": "No such file or directory: 'Untitled-1.png'",
     "output_type": "error",
     "traceback": [
      "\u001b[1;31m---------------------------------------------------------------------------\u001b[0m",
      "\u001b[1;31mTypeError\u001b[0m                                 Traceback (most recent call last)",
      "File \u001b[1;32m~\\AppData\\Roaming\\Python\\Python313\\site-packages\\IPython\\core\\display.py:1128\u001b[0m, in \u001b[0;36mImage._data_and_metadata\u001b[1;34m(self, always_both)\u001b[0m\n\u001b[0;32m   1127\u001b[0m \u001b[38;5;28;01mtry\u001b[39;00m:\n\u001b[1;32m-> 1128\u001b[0m     b64_data \u001b[38;5;241m=\u001b[39m \u001b[43mb2a_base64\u001b[49m\u001b[43m(\u001b[49m\u001b[38;5;28;43mself\u001b[39;49m\u001b[38;5;241;43m.\u001b[39;49m\u001b[43mdata\u001b[49m\u001b[43m,\u001b[49m\u001b[43m \u001b[49m\u001b[43mnewline\u001b[49m\u001b[38;5;241;43m=\u001b[39;49m\u001b[38;5;28;43;01mFalse\u001b[39;49;00m\u001b[43m)\u001b[49m\u001b[38;5;241m.\u001b[39mdecode(\u001b[38;5;124m\"\u001b[39m\u001b[38;5;124mascii\u001b[39m\u001b[38;5;124m\"\u001b[39m)\n\u001b[0;32m   1129\u001b[0m \u001b[38;5;28;01mexcept\u001b[39;00m \u001b[38;5;167;01mTypeError\u001b[39;00m \u001b[38;5;28;01mas\u001b[39;00m e:\n",
      "\u001b[1;31mTypeError\u001b[0m: a bytes-like object is required, not 'str'",
      "\nThe above exception was the direct cause of the following exception:\n",
      "\u001b[1;31mFileNotFoundError\u001b[0m                         Traceback (most recent call last)",
      "File \u001b[1;32m~\\AppData\\Roaming\\Python\\Python313\\site-packages\\IPython\\core\\formatters.py:406\u001b[0m, in \u001b[0;36mBaseFormatter.__call__\u001b[1;34m(self, obj)\u001b[0m\n\u001b[0;32m    404\u001b[0m     method \u001b[38;5;241m=\u001b[39m get_real_method(obj, \u001b[38;5;28mself\u001b[39m\u001b[38;5;241m.\u001b[39mprint_method)\n\u001b[0;32m    405\u001b[0m     \u001b[38;5;28;01mif\u001b[39;00m method \u001b[38;5;129;01mis\u001b[39;00m \u001b[38;5;129;01mnot\u001b[39;00m \u001b[38;5;28;01mNone\u001b[39;00m:\n\u001b[1;32m--> 406\u001b[0m         \u001b[38;5;28;01mreturn\u001b[39;00m \u001b[43mmethod\u001b[49m\u001b[43m(\u001b[49m\u001b[43m)\u001b[49m\n\u001b[0;32m    407\u001b[0m     \u001b[38;5;28;01mreturn\u001b[39;00m \u001b[38;5;28;01mNone\u001b[39;00m\n\u001b[0;32m    408\u001b[0m \u001b[38;5;28;01melse\u001b[39;00m:\n",
      "File \u001b[1;32m~\\AppData\\Roaming\\Python\\Python313\\site-packages\\IPython\\core\\display.py:1150\u001b[0m, in \u001b[0;36mImage._repr_png_\u001b[1;34m(self)\u001b[0m\n\u001b[0;32m   1148\u001b[0m \u001b[38;5;28;01mdef\u001b[39;00m \u001b[38;5;21m_repr_png_\u001b[39m(\u001b[38;5;28mself\u001b[39m):\n\u001b[0;32m   1149\u001b[0m     \u001b[38;5;28;01mif\u001b[39;00m \u001b[38;5;28mself\u001b[39m\u001b[38;5;241m.\u001b[39membed \u001b[38;5;129;01mand\u001b[39;00m \u001b[38;5;28mself\u001b[39m\u001b[38;5;241m.\u001b[39mformat \u001b[38;5;241m==\u001b[39m \u001b[38;5;28mself\u001b[39m\u001b[38;5;241m.\u001b[39m_FMT_PNG:\n\u001b[1;32m-> 1150\u001b[0m         \u001b[38;5;28;01mreturn\u001b[39;00m \u001b[38;5;28;43mself\u001b[39;49m\u001b[38;5;241;43m.\u001b[39;49m\u001b[43m_data_and_metadata\u001b[49m\u001b[43m(\u001b[49m\u001b[43m)\u001b[49m\n",
      "File \u001b[1;32m~\\AppData\\Roaming\\Python\\Python313\\site-packages\\IPython\\core\\display.py:1130\u001b[0m, in \u001b[0;36mImage._data_and_metadata\u001b[1;34m(self, always_both)\u001b[0m\n\u001b[0;32m   1128\u001b[0m     b64_data \u001b[38;5;241m=\u001b[39m b2a_base64(\u001b[38;5;28mself\u001b[39m\u001b[38;5;241m.\u001b[39mdata, newline\u001b[38;5;241m=\u001b[39m\u001b[38;5;28;01mFalse\u001b[39;00m)\u001b[38;5;241m.\u001b[39mdecode(\u001b[38;5;124m\"\u001b[39m\u001b[38;5;124mascii\u001b[39m\u001b[38;5;124m\"\u001b[39m)\n\u001b[0;32m   1129\u001b[0m \u001b[38;5;28;01mexcept\u001b[39;00m \u001b[38;5;167;01mTypeError\u001b[39;00m \u001b[38;5;28;01mas\u001b[39;00m e:\n\u001b[1;32m-> 1130\u001b[0m     \u001b[38;5;28;01mraise\u001b[39;00m \u001b[38;5;167;01mFileNotFoundError\u001b[39;00m(\n\u001b[0;32m   1131\u001b[0m         \u001b[38;5;124m\"\u001b[39m\u001b[38;5;124mNo such file or directory: \u001b[39m\u001b[38;5;124m'\u001b[39m\u001b[38;5;132;01m%s\u001b[39;00m\u001b[38;5;124m'\u001b[39m\u001b[38;5;124m\"\u001b[39m \u001b[38;5;241m%\u001b[39m (\u001b[38;5;28mself\u001b[39m\u001b[38;5;241m.\u001b[39mdata)) \u001b[38;5;28;01mfrom\u001b[39;00m \u001b[38;5;21;01me\u001b[39;00m\n\u001b[0;32m   1132\u001b[0m md \u001b[38;5;241m=\u001b[39m {}\n\u001b[0;32m   1133\u001b[0m \u001b[38;5;28;01mif\u001b[39;00m \u001b[38;5;28mself\u001b[39m\u001b[38;5;241m.\u001b[39mmetadata:\n",
      "\u001b[1;31mFileNotFoundError\u001b[0m: No such file or directory: 'Untitled-1.png'"
     ]
    },
    {
     "data": {
      "text/plain": [
       "<IPython.core.display.Image object>"
      ]
     },
     "execution_count": 5,
     "metadata": {},
     "output_type": "execute_result"
    }
   ],
   "source": [
    "from IPython import display\n",
    "display.Image(\"Untitled-1.png\" ,width = 400, height = 250)"
   ]
  },
  {
   "cell_type": "code",
   "execution_count": 6,
   "id": "36ed119b",
   "metadata": {},
   "outputs": [
    {
     "data": {
      "text/plain": [
       "array([15])"
      ]
     },
     "execution_count": 6,
     "metadata": {},
     "output_type": "execute_result"
    }
   ],
   "source": [
    "a = [15]\n",
    "\n",
    "array_a = np.array(a)\n",
    "array_a"
   ]
  },
  {
   "cell_type": "code",
   "execution_count": 7,
   "id": "7c00da32",
   "metadata": {},
   "outputs": [
    {
     "name": "stdout",
     "output_type": "stream",
     "text": [
      "[15] \n",
      " <class 'list'>\n"
     ]
    }
   ],
   "source": [
    "print(a , '\\n' ,  type(a))"
   ]
  },
  {
   "cell_type": "code",
   "execution_count": 8,
   "id": "712ac88b",
   "metadata": {},
   "outputs": [
    {
     "name": "stdout",
     "output_type": "stream",
     "text": [
      "[15] \n",
      " <class 'numpy.ndarray'>\n"
     ]
    }
   ],
   "source": [
    "print(array_a  , '\\n' , type(array_a))"
   ]
  },
  {
   "cell_type": "markdown",
   "id": "8d85c101",
   "metadata": {},
   "source": [
    "## 1-D array (Vector)"
   ]
  },
  {
   "cell_type": "code",
   "execution_count": 9,
   "id": "0c8473ce",
   "metadata": {},
   "outputs": [
    {
     "ename": "FileNotFoundError",
     "evalue": "No such file or directory: 'Untitled-2.png'",
     "output_type": "error",
     "traceback": [
      "\u001b[1;31m---------------------------------------------------------------------------\u001b[0m",
      "\u001b[1;31mTypeError\u001b[0m                                 Traceback (most recent call last)",
      "File \u001b[1;32m~\\AppData\\Roaming\\Python\\Python313\\site-packages\\IPython\\core\\display.py:1128\u001b[0m, in \u001b[0;36mImage._data_and_metadata\u001b[1;34m(self, always_both)\u001b[0m\n\u001b[0;32m   1127\u001b[0m \u001b[38;5;28;01mtry\u001b[39;00m:\n\u001b[1;32m-> 1128\u001b[0m     b64_data \u001b[38;5;241m=\u001b[39m \u001b[43mb2a_base64\u001b[49m\u001b[43m(\u001b[49m\u001b[38;5;28;43mself\u001b[39;49m\u001b[38;5;241;43m.\u001b[39;49m\u001b[43mdata\u001b[49m\u001b[43m,\u001b[49m\u001b[43m \u001b[49m\u001b[43mnewline\u001b[49m\u001b[38;5;241;43m=\u001b[39;49m\u001b[38;5;28;43;01mFalse\u001b[39;49;00m\u001b[43m)\u001b[49m\u001b[38;5;241m.\u001b[39mdecode(\u001b[38;5;124m\"\u001b[39m\u001b[38;5;124mascii\u001b[39m\u001b[38;5;124m\"\u001b[39m)\n\u001b[0;32m   1129\u001b[0m \u001b[38;5;28;01mexcept\u001b[39;00m \u001b[38;5;167;01mTypeError\u001b[39;00m \u001b[38;5;28;01mas\u001b[39;00m e:\n",
      "\u001b[1;31mTypeError\u001b[0m: a bytes-like object is required, not 'str'",
      "\nThe above exception was the direct cause of the following exception:\n",
      "\u001b[1;31mFileNotFoundError\u001b[0m                         Traceback (most recent call last)",
      "File \u001b[1;32m~\\AppData\\Roaming\\Python\\Python313\\site-packages\\IPython\\core\\formatters.py:1036\u001b[0m, in \u001b[0;36mMimeBundleFormatter.__call__\u001b[1;34m(self, obj, include, exclude)\u001b[0m\n\u001b[0;32m   1033\u001b[0m     method \u001b[38;5;241m=\u001b[39m get_real_method(obj, \u001b[38;5;28mself\u001b[39m\u001b[38;5;241m.\u001b[39mprint_method)\n\u001b[0;32m   1035\u001b[0m     \u001b[38;5;28;01mif\u001b[39;00m method \u001b[38;5;129;01mis\u001b[39;00m \u001b[38;5;129;01mnot\u001b[39;00m \u001b[38;5;28;01mNone\u001b[39;00m:\n\u001b[1;32m-> 1036\u001b[0m         \u001b[38;5;28;01mreturn\u001b[39;00m \u001b[43mmethod\u001b[49m\u001b[43m(\u001b[49m\u001b[43minclude\u001b[49m\u001b[38;5;241;43m=\u001b[39;49m\u001b[43minclude\u001b[49m\u001b[43m,\u001b[49m\u001b[43m \u001b[49m\u001b[43mexclude\u001b[49m\u001b[38;5;241;43m=\u001b[39;49m\u001b[43mexclude\u001b[49m\u001b[43m)\u001b[49m\n\u001b[0;32m   1037\u001b[0m     \u001b[38;5;28;01mreturn\u001b[39;00m \u001b[38;5;28;01mNone\u001b[39;00m\n\u001b[0;32m   1038\u001b[0m \u001b[38;5;28;01melse\u001b[39;00m:\n",
      "File \u001b[1;32m~\\AppData\\Roaming\\Python\\Python313\\site-packages\\IPython\\core\\display.py:1118\u001b[0m, in \u001b[0;36mImage._repr_mimebundle_\u001b[1;34m(self, include, exclude)\u001b[0m\n\u001b[0;32m   1116\u001b[0m \u001b[38;5;28;01mif\u001b[39;00m \u001b[38;5;28mself\u001b[39m\u001b[38;5;241m.\u001b[39membed:\n\u001b[0;32m   1117\u001b[0m     mimetype \u001b[38;5;241m=\u001b[39m \u001b[38;5;28mself\u001b[39m\u001b[38;5;241m.\u001b[39m_mimetype\n\u001b[1;32m-> 1118\u001b[0m     data, metadata \u001b[38;5;241m=\u001b[39m \u001b[38;5;28;43mself\u001b[39;49m\u001b[38;5;241;43m.\u001b[39;49m\u001b[43m_data_and_metadata\u001b[49m\u001b[43m(\u001b[49m\u001b[43malways_both\u001b[49m\u001b[38;5;241;43m=\u001b[39;49m\u001b[38;5;28;43;01mTrue\u001b[39;49;00m\u001b[43m)\u001b[49m\n\u001b[0;32m   1119\u001b[0m     \u001b[38;5;28;01mif\u001b[39;00m metadata:\n\u001b[0;32m   1120\u001b[0m         metadata \u001b[38;5;241m=\u001b[39m {mimetype: metadata}\n",
      "File \u001b[1;32m~\\AppData\\Roaming\\Python\\Python313\\site-packages\\IPython\\core\\display.py:1130\u001b[0m, in \u001b[0;36mImage._data_and_metadata\u001b[1;34m(self, always_both)\u001b[0m\n\u001b[0;32m   1128\u001b[0m     b64_data \u001b[38;5;241m=\u001b[39m b2a_base64(\u001b[38;5;28mself\u001b[39m\u001b[38;5;241m.\u001b[39mdata, newline\u001b[38;5;241m=\u001b[39m\u001b[38;5;28;01mFalse\u001b[39;00m)\u001b[38;5;241m.\u001b[39mdecode(\u001b[38;5;124m\"\u001b[39m\u001b[38;5;124mascii\u001b[39m\u001b[38;5;124m\"\u001b[39m)\n\u001b[0;32m   1129\u001b[0m \u001b[38;5;28;01mexcept\u001b[39;00m \u001b[38;5;167;01mTypeError\u001b[39;00m \u001b[38;5;28;01mas\u001b[39;00m e:\n\u001b[1;32m-> 1130\u001b[0m     \u001b[38;5;28;01mraise\u001b[39;00m \u001b[38;5;167;01mFileNotFoundError\u001b[39;00m(\n\u001b[0;32m   1131\u001b[0m         \u001b[38;5;124m\"\u001b[39m\u001b[38;5;124mNo such file or directory: \u001b[39m\u001b[38;5;124m'\u001b[39m\u001b[38;5;132;01m%s\u001b[39;00m\u001b[38;5;124m'\u001b[39m\u001b[38;5;124m\"\u001b[39m \u001b[38;5;241m%\u001b[39m (\u001b[38;5;28mself\u001b[39m\u001b[38;5;241m.\u001b[39mdata)) \u001b[38;5;28;01mfrom\u001b[39;00m \u001b[38;5;21;01me\u001b[39;00m\n\u001b[0;32m   1132\u001b[0m md \u001b[38;5;241m=\u001b[39m {}\n\u001b[0;32m   1133\u001b[0m \u001b[38;5;28;01mif\u001b[39;00m \u001b[38;5;28mself\u001b[39m\u001b[38;5;241m.\u001b[39mmetadata:\n",
      "\u001b[1;31mFileNotFoundError\u001b[0m: No such file or directory: 'Untitled-2.png'"
     ]
    },
    {
     "ename": "FileNotFoundError",
     "evalue": "No such file or directory: 'Untitled-2.png'",
     "output_type": "error",
     "traceback": [
      "\u001b[1;31m---------------------------------------------------------------------------\u001b[0m",
      "\u001b[1;31mTypeError\u001b[0m                                 Traceback (most recent call last)",
      "File \u001b[1;32m~\\AppData\\Roaming\\Python\\Python313\\site-packages\\IPython\\core\\display.py:1128\u001b[0m, in \u001b[0;36mImage._data_and_metadata\u001b[1;34m(self, always_both)\u001b[0m\n\u001b[0;32m   1127\u001b[0m \u001b[38;5;28;01mtry\u001b[39;00m:\n\u001b[1;32m-> 1128\u001b[0m     b64_data \u001b[38;5;241m=\u001b[39m \u001b[43mb2a_base64\u001b[49m\u001b[43m(\u001b[49m\u001b[38;5;28;43mself\u001b[39;49m\u001b[38;5;241;43m.\u001b[39;49m\u001b[43mdata\u001b[49m\u001b[43m,\u001b[49m\u001b[43m \u001b[49m\u001b[43mnewline\u001b[49m\u001b[38;5;241;43m=\u001b[39;49m\u001b[38;5;28;43;01mFalse\u001b[39;49;00m\u001b[43m)\u001b[49m\u001b[38;5;241m.\u001b[39mdecode(\u001b[38;5;124m\"\u001b[39m\u001b[38;5;124mascii\u001b[39m\u001b[38;5;124m\"\u001b[39m)\n\u001b[0;32m   1129\u001b[0m \u001b[38;5;28;01mexcept\u001b[39;00m \u001b[38;5;167;01mTypeError\u001b[39;00m \u001b[38;5;28;01mas\u001b[39;00m e:\n",
      "\u001b[1;31mTypeError\u001b[0m: a bytes-like object is required, not 'str'",
      "\nThe above exception was the direct cause of the following exception:\n",
      "\u001b[1;31mFileNotFoundError\u001b[0m                         Traceback (most recent call last)",
      "File \u001b[1;32m~\\AppData\\Roaming\\Python\\Python313\\site-packages\\IPython\\core\\formatters.py:406\u001b[0m, in \u001b[0;36mBaseFormatter.__call__\u001b[1;34m(self, obj)\u001b[0m\n\u001b[0;32m    404\u001b[0m     method \u001b[38;5;241m=\u001b[39m get_real_method(obj, \u001b[38;5;28mself\u001b[39m\u001b[38;5;241m.\u001b[39mprint_method)\n\u001b[0;32m    405\u001b[0m     \u001b[38;5;28;01mif\u001b[39;00m method \u001b[38;5;129;01mis\u001b[39;00m \u001b[38;5;129;01mnot\u001b[39;00m \u001b[38;5;28;01mNone\u001b[39;00m:\n\u001b[1;32m--> 406\u001b[0m         \u001b[38;5;28;01mreturn\u001b[39;00m \u001b[43mmethod\u001b[49m\u001b[43m(\u001b[49m\u001b[43m)\u001b[49m\n\u001b[0;32m    407\u001b[0m     \u001b[38;5;28;01mreturn\u001b[39;00m \u001b[38;5;28;01mNone\u001b[39;00m\n\u001b[0;32m    408\u001b[0m \u001b[38;5;28;01melse\u001b[39;00m:\n",
      "File \u001b[1;32m~\\AppData\\Roaming\\Python\\Python313\\site-packages\\IPython\\core\\display.py:1150\u001b[0m, in \u001b[0;36mImage._repr_png_\u001b[1;34m(self)\u001b[0m\n\u001b[0;32m   1148\u001b[0m \u001b[38;5;28;01mdef\u001b[39;00m \u001b[38;5;21m_repr_png_\u001b[39m(\u001b[38;5;28mself\u001b[39m):\n\u001b[0;32m   1149\u001b[0m     \u001b[38;5;28;01mif\u001b[39;00m \u001b[38;5;28mself\u001b[39m\u001b[38;5;241m.\u001b[39membed \u001b[38;5;129;01mand\u001b[39;00m \u001b[38;5;28mself\u001b[39m\u001b[38;5;241m.\u001b[39mformat \u001b[38;5;241m==\u001b[39m \u001b[38;5;28mself\u001b[39m\u001b[38;5;241m.\u001b[39m_FMT_PNG:\n\u001b[1;32m-> 1150\u001b[0m         \u001b[38;5;28;01mreturn\u001b[39;00m \u001b[38;5;28;43mself\u001b[39;49m\u001b[38;5;241;43m.\u001b[39;49m\u001b[43m_data_and_metadata\u001b[49m\u001b[43m(\u001b[49m\u001b[43m)\u001b[49m\n",
      "File \u001b[1;32m~\\AppData\\Roaming\\Python\\Python313\\site-packages\\IPython\\core\\display.py:1130\u001b[0m, in \u001b[0;36mImage._data_and_metadata\u001b[1;34m(self, always_both)\u001b[0m\n\u001b[0;32m   1128\u001b[0m     b64_data \u001b[38;5;241m=\u001b[39m b2a_base64(\u001b[38;5;28mself\u001b[39m\u001b[38;5;241m.\u001b[39mdata, newline\u001b[38;5;241m=\u001b[39m\u001b[38;5;28;01mFalse\u001b[39;00m)\u001b[38;5;241m.\u001b[39mdecode(\u001b[38;5;124m\"\u001b[39m\u001b[38;5;124mascii\u001b[39m\u001b[38;5;124m\"\u001b[39m)\n\u001b[0;32m   1129\u001b[0m \u001b[38;5;28;01mexcept\u001b[39;00m \u001b[38;5;167;01mTypeError\u001b[39;00m \u001b[38;5;28;01mas\u001b[39;00m e:\n\u001b[1;32m-> 1130\u001b[0m     \u001b[38;5;28;01mraise\u001b[39;00m \u001b[38;5;167;01mFileNotFoundError\u001b[39;00m(\n\u001b[0;32m   1131\u001b[0m         \u001b[38;5;124m\"\u001b[39m\u001b[38;5;124mNo such file or directory: \u001b[39m\u001b[38;5;124m'\u001b[39m\u001b[38;5;132;01m%s\u001b[39;00m\u001b[38;5;124m'\u001b[39m\u001b[38;5;124m\"\u001b[39m \u001b[38;5;241m%\u001b[39m (\u001b[38;5;28mself\u001b[39m\u001b[38;5;241m.\u001b[39mdata)) \u001b[38;5;28;01mfrom\u001b[39;00m \u001b[38;5;21;01me\u001b[39;00m\n\u001b[0;32m   1132\u001b[0m md \u001b[38;5;241m=\u001b[39m {}\n\u001b[0;32m   1133\u001b[0m \u001b[38;5;28;01mif\u001b[39;00m \u001b[38;5;28mself\u001b[39m\u001b[38;5;241m.\u001b[39mmetadata:\n",
      "\u001b[1;31mFileNotFoundError\u001b[0m: No such file or directory: 'Untitled-2.png'"
     ]
    },
    {
     "data": {
      "text/plain": [
       "<IPython.core.display.Image object>"
      ]
     },
     "execution_count": 9,
     "metadata": {},
     "output_type": "execute_result"
    }
   ],
   "source": [
    "from IPython import display\n",
    "display.Image(\"Untitled-2.png\" ,width = 200, height = 250)"
   ]
  },
  {
   "cell_type": "code",
   "execution_count": 10,
   "id": "b54dc959",
   "metadata": {},
   "outputs": [],
   "source": [
    "b = [11 , 2 , 23 , 41 , 56 , 61 ]\n",
    "\n",
    "array_b = np.array(b)"
   ]
  },
  {
   "cell_type": "code",
   "execution_count": 11,
   "id": "16da24fc",
   "metadata": {},
   "outputs": [
    {
     "name": "stdout",
     "output_type": "stream",
     "text": [
      "[11, 2, 23, 41, 56, 61] \n",
      " <class 'list'>\n"
     ]
    }
   ],
   "source": [
    "print(b , '\\n' ,  type(b))"
   ]
  },
  {
   "cell_type": "code",
   "execution_count": 12,
   "id": "cadebff9",
   "metadata": {},
   "outputs": [
    {
     "name": "stdout",
     "output_type": "stream",
     "text": [
      "[11  2 23 41 56 61] \n",
      " <class 'numpy.ndarray'>\n"
     ]
    }
   ],
   "source": [
    "print(array_b , '\\n' ,  type(array_b))"
   ]
  },
  {
   "cell_type": "markdown",
   "id": "7a24984d",
   "metadata": {},
   "source": [
    "## 2-D array ( Matrix )"
   ]
  },
  {
   "cell_type": "code",
   "execution_count": 13,
   "id": "4f6f02e1",
   "metadata": {},
   "outputs": [
    {
     "ename": "FileNotFoundError",
     "evalue": "No such file or directory: 'Untitled-3.png'",
     "output_type": "error",
     "traceback": [
      "\u001b[1;31m---------------------------------------------------------------------------\u001b[0m",
      "\u001b[1;31mTypeError\u001b[0m                                 Traceback (most recent call last)",
      "File \u001b[1;32m~\\AppData\\Roaming\\Python\\Python313\\site-packages\\IPython\\core\\display.py:1128\u001b[0m, in \u001b[0;36mImage._data_and_metadata\u001b[1;34m(self, always_both)\u001b[0m\n\u001b[0;32m   1127\u001b[0m \u001b[38;5;28;01mtry\u001b[39;00m:\n\u001b[1;32m-> 1128\u001b[0m     b64_data \u001b[38;5;241m=\u001b[39m \u001b[43mb2a_base64\u001b[49m\u001b[43m(\u001b[49m\u001b[38;5;28;43mself\u001b[39;49m\u001b[38;5;241;43m.\u001b[39;49m\u001b[43mdata\u001b[49m\u001b[43m,\u001b[49m\u001b[43m \u001b[49m\u001b[43mnewline\u001b[49m\u001b[38;5;241;43m=\u001b[39;49m\u001b[38;5;28;43;01mFalse\u001b[39;49;00m\u001b[43m)\u001b[49m\u001b[38;5;241m.\u001b[39mdecode(\u001b[38;5;124m\"\u001b[39m\u001b[38;5;124mascii\u001b[39m\u001b[38;5;124m\"\u001b[39m)\n\u001b[0;32m   1129\u001b[0m \u001b[38;5;28;01mexcept\u001b[39;00m \u001b[38;5;167;01mTypeError\u001b[39;00m \u001b[38;5;28;01mas\u001b[39;00m e:\n",
      "\u001b[1;31mTypeError\u001b[0m: a bytes-like object is required, not 'str'",
      "\nThe above exception was the direct cause of the following exception:\n",
      "\u001b[1;31mFileNotFoundError\u001b[0m                         Traceback (most recent call last)",
      "File \u001b[1;32m~\\AppData\\Roaming\\Python\\Python313\\site-packages\\IPython\\core\\formatters.py:1036\u001b[0m, in \u001b[0;36mMimeBundleFormatter.__call__\u001b[1;34m(self, obj, include, exclude)\u001b[0m\n\u001b[0;32m   1033\u001b[0m     method \u001b[38;5;241m=\u001b[39m get_real_method(obj, \u001b[38;5;28mself\u001b[39m\u001b[38;5;241m.\u001b[39mprint_method)\n\u001b[0;32m   1035\u001b[0m     \u001b[38;5;28;01mif\u001b[39;00m method \u001b[38;5;129;01mis\u001b[39;00m \u001b[38;5;129;01mnot\u001b[39;00m \u001b[38;5;28;01mNone\u001b[39;00m:\n\u001b[1;32m-> 1036\u001b[0m         \u001b[38;5;28;01mreturn\u001b[39;00m \u001b[43mmethod\u001b[49m\u001b[43m(\u001b[49m\u001b[43minclude\u001b[49m\u001b[38;5;241;43m=\u001b[39;49m\u001b[43minclude\u001b[49m\u001b[43m,\u001b[49m\u001b[43m \u001b[49m\u001b[43mexclude\u001b[49m\u001b[38;5;241;43m=\u001b[39;49m\u001b[43mexclude\u001b[49m\u001b[43m)\u001b[49m\n\u001b[0;32m   1037\u001b[0m     \u001b[38;5;28;01mreturn\u001b[39;00m \u001b[38;5;28;01mNone\u001b[39;00m\n\u001b[0;32m   1038\u001b[0m \u001b[38;5;28;01melse\u001b[39;00m:\n",
      "File \u001b[1;32m~\\AppData\\Roaming\\Python\\Python313\\site-packages\\IPython\\core\\display.py:1118\u001b[0m, in \u001b[0;36mImage._repr_mimebundle_\u001b[1;34m(self, include, exclude)\u001b[0m\n\u001b[0;32m   1116\u001b[0m \u001b[38;5;28;01mif\u001b[39;00m \u001b[38;5;28mself\u001b[39m\u001b[38;5;241m.\u001b[39membed:\n\u001b[0;32m   1117\u001b[0m     mimetype \u001b[38;5;241m=\u001b[39m \u001b[38;5;28mself\u001b[39m\u001b[38;5;241m.\u001b[39m_mimetype\n\u001b[1;32m-> 1118\u001b[0m     data, metadata \u001b[38;5;241m=\u001b[39m \u001b[38;5;28;43mself\u001b[39;49m\u001b[38;5;241;43m.\u001b[39;49m\u001b[43m_data_and_metadata\u001b[49m\u001b[43m(\u001b[49m\u001b[43malways_both\u001b[49m\u001b[38;5;241;43m=\u001b[39;49m\u001b[38;5;28;43;01mTrue\u001b[39;49;00m\u001b[43m)\u001b[49m\n\u001b[0;32m   1119\u001b[0m     \u001b[38;5;28;01mif\u001b[39;00m metadata:\n\u001b[0;32m   1120\u001b[0m         metadata \u001b[38;5;241m=\u001b[39m {mimetype: metadata}\n",
      "File \u001b[1;32m~\\AppData\\Roaming\\Python\\Python313\\site-packages\\IPython\\core\\display.py:1130\u001b[0m, in \u001b[0;36mImage._data_and_metadata\u001b[1;34m(self, always_both)\u001b[0m\n\u001b[0;32m   1128\u001b[0m     b64_data \u001b[38;5;241m=\u001b[39m b2a_base64(\u001b[38;5;28mself\u001b[39m\u001b[38;5;241m.\u001b[39mdata, newline\u001b[38;5;241m=\u001b[39m\u001b[38;5;28;01mFalse\u001b[39;00m)\u001b[38;5;241m.\u001b[39mdecode(\u001b[38;5;124m\"\u001b[39m\u001b[38;5;124mascii\u001b[39m\u001b[38;5;124m\"\u001b[39m)\n\u001b[0;32m   1129\u001b[0m \u001b[38;5;28;01mexcept\u001b[39;00m \u001b[38;5;167;01mTypeError\u001b[39;00m \u001b[38;5;28;01mas\u001b[39;00m e:\n\u001b[1;32m-> 1130\u001b[0m     \u001b[38;5;28;01mraise\u001b[39;00m \u001b[38;5;167;01mFileNotFoundError\u001b[39;00m(\n\u001b[0;32m   1131\u001b[0m         \u001b[38;5;124m\"\u001b[39m\u001b[38;5;124mNo such file or directory: \u001b[39m\u001b[38;5;124m'\u001b[39m\u001b[38;5;132;01m%s\u001b[39;00m\u001b[38;5;124m'\u001b[39m\u001b[38;5;124m\"\u001b[39m \u001b[38;5;241m%\u001b[39m (\u001b[38;5;28mself\u001b[39m\u001b[38;5;241m.\u001b[39mdata)) \u001b[38;5;28;01mfrom\u001b[39;00m \u001b[38;5;21;01me\u001b[39;00m\n\u001b[0;32m   1132\u001b[0m md \u001b[38;5;241m=\u001b[39m {}\n\u001b[0;32m   1133\u001b[0m \u001b[38;5;28;01mif\u001b[39;00m \u001b[38;5;28mself\u001b[39m\u001b[38;5;241m.\u001b[39mmetadata:\n",
      "\u001b[1;31mFileNotFoundError\u001b[0m: No such file or directory: 'Untitled-3.png'"
     ]
    },
    {
     "ename": "FileNotFoundError",
     "evalue": "No such file or directory: 'Untitled-3.png'",
     "output_type": "error",
     "traceback": [
      "\u001b[1;31m---------------------------------------------------------------------------\u001b[0m",
      "\u001b[1;31mTypeError\u001b[0m                                 Traceback (most recent call last)",
      "File \u001b[1;32m~\\AppData\\Roaming\\Python\\Python313\\site-packages\\IPython\\core\\display.py:1128\u001b[0m, in \u001b[0;36mImage._data_and_metadata\u001b[1;34m(self, always_both)\u001b[0m\n\u001b[0;32m   1127\u001b[0m \u001b[38;5;28;01mtry\u001b[39;00m:\n\u001b[1;32m-> 1128\u001b[0m     b64_data \u001b[38;5;241m=\u001b[39m \u001b[43mb2a_base64\u001b[49m\u001b[43m(\u001b[49m\u001b[38;5;28;43mself\u001b[39;49m\u001b[38;5;241;43m.\u001b[39;49m\u001b[43mdata\u001b[49m\u001b[43m,\u001b[49m\u001b[43m \u001b[49m\u001b[43mnewline\u001b[49m\u001b[38;5;241;43m=\u001b[39;49m\u001b[38;5;28;43;01mFalse\u001b[39;49;00m\u001b[43m)\u001b[49m\u001b[38;5;241m.\u001b[39mdecode(\u001b[38;5;124m\"\u001b[39m\u001b[38;5;124mascii\u001b[39m\u001b[38;5;124m\"\u001b[39m)\n\u001b[0;32m   1129\u001b[0m \u001b[38;5;28;01mexcept\u001b[39;00m \u001b[38;5;167;01mTypeError\u001b[39;00m \u001b[38;5;28;01mas\u001b[39;00m e:\n",
      "\u001b[1;31mTypeError\u001b[0m: a bytes-like object is required, not 'str'",
      "\nThe above exception was the direct cause of the following exception:\n",
      "\u001b[1;31mFileNotFoundError\u001b[0m                         Traceback (most recent call last)",
      "File \u001b[1;32m~\\AppData\\Roaming\\Python\\Python313\\site-packages\\IPython\\core\\formatters.py:406\u001b[0m, in \u001b[0;36mBaseFormatter.__call__\u001b[1;34m(self, obj)\u001b[0m\n\u001b[0;32m    404\u001b[0m     method \u001b[38;5;241m=\u001b[39m get_real_method(obj, \u001b[38;5;28mself\u001b[39m\u001b[38;5;241m.\u001b[39mprint_method)\n\u001b[0;32m    405\u001b[0m     \u001b[38;5;28;01mif\u001b[39;00m method \u001b[38;5;129;01mis\u001b[39;00m \u001b[38;5;129;01mnot\u001b[39;00m \u001b[38;5;28;01mNone\u001b[39;00m:\n\u001b[1;32m--> 406\u001b[0m         \u001b[38;5;28;01mreturn\u001b[39;00m \u001b[43mmethod\u001b[49m\u001b[43m(\u001b[49m\u001b[43m)\u001b[49m\n\u001b[0;32m    407\u001b[0m     \u001b[38;5;28;01mreturn\u001b[39;00m \u001b[38;5;28;01mNone\u001b[39;00m\n\u001b[0;32m    408\u001b[0m \u001b[38;5;28;01melse\u001b[39;00m:\n",
      "File \u001b[1;32m~\\AppData\\Roaming\\Python\\Python313\\site-packages\\IPython\\core\\display.py:1150\u001b[0m, in \u001b[0;36mImage._repr_png_\u001b[1;34m(self)\u001b[0m\n\u001b[0;32m   1148\u001b[0m \u001b[38;5;28;01mdef\u001b[39;00m \u001b[38;5;21m_repr_png_\u001b[39m(\u001b[38;5;28mself\u001b[39m):\n\u001b[0;32m   1149\u001b[0m     \u001b[38;5;28;01mif\u001b[39;00m \u001b[38;5;28mself\u001b[39m\u001b[38;5;241m.\u001b[39membed \u001b[38;5;129;01mand\u001b[39;00m \u001b[38;5;28mself\u001b[39m\u001b[38;5;241m.\u001b[39mformat \u001b[38;5;241m==\u001b[39m \u001b[38;5;28mself\u001b[39m\u001b[38;5;241m.\u001b[39m_FMT_PNG:\n\u001b[1;32m-> 1150\u001b[0m         \u001b[38;5;28;01mreturn\u001b[39;00m \u001b[38;5;28;43mself\u001b[39;49m\u001b[38;5;241;43m.\u001b[39;49m\u001b[43m_data_and_metadata\u001b[49m\u001b[43m(\u001b[49m\u001b[43m)\u001b[49m\n",
      "File \u001b[1;32m~\\AppData\\Roaming\\Python\\Python313\\site-packages\\IPython\\core\\display.py:1130\u001b[0m, in \u001b[0;36mImage._data_and_metadata\u001b[1;34m(self, always_both)\u001b[0m\n\u001b[0;32m   1128\u001b[0m     b64_data \u001b[38;5;241m=\u001b[39m b2a_base64(\u001b[38;5;28mself\u001b[39m\u001b[38;5;241m.\u001b[39mdata, newline\u001b[38;5;241m=\u001b[39m\u001b[38;5;28;01mFalse\u001b[39;00m)\u001b[38;5;241m.\u001b[39mdecode(\u001b[38;5;124m\"\u001b[39m\u001b[38;5;124mascii\u001b[39m\u001b[38;5;124m\"\u001b[39m)\n\u001b[0;32m   1129\u001b[0m \u001b[38;5;28;01mexcept\u001b[39;00m \u001b[38;5;167;01mTypeError\u001b[39;00m \u001b[38;5;28;01mas\u001b[39;00m e:\n\u001b[1;32m-> 1130\u001b[0m     \u001b[38;5;28;01mraise\u001b[39;00m \u001b[38;5;167;01mFileNotFoundError\u001b[39;00m(\n\u001b[0;32m   1131\u001b[0m         \u001b[38;5;124m\"\u001b[39m\u001b[38;5;124mNo such file or directory: \u001b[39m\u001b[38;5;124m'\u001b[39m\u001b[38;5;132;01m%s\u001b[39;00m\u001b[38;5;124m'\u001b[39m\u001b[38;5;124m\"\u001b[39m \u001b[38;5;241m%\u001b[39m (\u001b[38;5;28mself\u001b[39m\u001b[38;5;241m.\u001b[39mdata)) \u001b[38;5;28;01mfrom\u001b[39;00m \u001b[38;5;21;01me\u001b[39;00m\n\u001b[0;32m   1132\u001b[0m md \u001b[38;5;241m=\u001b[39m {}\n\u001b[0;32m   1133\u001b[0m \u001b[38;5;28;01mif\u001b[39;00m \u001b[38;5;28mself\u001b[39m\u001b[38;5;241m.\u001b[39mmetadata:\n",
      "\u001b[1;31mFileNotFoundError\u001b[0m: No such file or directory: 'Untitled-3.png'"
     ]
    },
    {
     "data": {
      "text/plain": [
       "<IPython.core.display.Image object>"
      ]
     },
     "execution_count": 13,
     "metadata": {},
     "output_type": "execute_result"
    }
   ],
   "source": [
    "from IPython import display\n",
    "display.Image(\"Untitled-3.png\" ,width = 400, height = 250)"
   ]
  },
  {
   "cell_type": "code",
   "execution_count": 14,
   "id": "c3968ed8",
   "metadata": {},
   "outputs": [],
   "source": [
    "c_1 = [[11 , 2 , 23 , 41 , 56 , 61 ]]\n",
    "\n",
    "array_c_1 = np.array(c_1)"
   ]
  },
  {
   "cell_type": "code",
   "execution_count": 15,
   "id": "6bfae3b9",
   "metadata": {},
   "outputs": [
    {
     "name": "stdout",
     "output_type": "stream",
     "text": [
      "[[11  2 23 41 56 61]] \n",
      " \n",
      " <class 'numpy.ndarray'>\n"
     ]
    }
   ],
   "source": [
    "print(array_c_1 , '\\n' , '\\n' ,  type(array_c_1))"
   ]
  },
  {
   "cell_type": "code",
   "execution_count": 16,
   "id": "79f38a32",
   "metadata": {},
   "outputs": [],
   "source": [
    "c_2 = [[11 , 2] \n",
    "    ,[2 , 4 ]]\n",
    "\n",
    "array_c_2 = np.array(c_2)"
   ]
  },
  {
   "cell_type": "code",
   "execution_count": 17,
   "id": "35e19cee",
   "metadata": {},
   "outputs": [
    {
     "name": "stdout",
     "output_type": "stream",
     "text": [
      "[[11, 2], [2, 4]] \n",
      " \n",
      " <class 'list'>\n"
     ]
    }
   ],
   "source": [
    "print(c_2 , '\\n' , '\\n' ,  type(c_2))"
   ]
  },
  {
   "cell_type": "code",
   "execution_count": 18,
   "id": "48923994",
   "metadata": {},
   "outputs": [
    {
     "name": "stdout",
     "output_type": "stream",
     "text": [
      "[[11  2]\n",
      " [ 2  4]] \n",
      " \n",
      " <class 'numpy.ndarray'>\n"
     ]
    }
   ],
   "source": [
    "print(array_c_2 , '\\n' , '\\n' ,  type(array_c_2))"
   ]
  },
  {
   "cell_type": "markdown",
   "id": "3e52de39",
   "metadata": {},
   "source": [
    "### Special notice (unbalanced array)"
   ]
  },
  {
   "cell_type": "code",
   "execution_count": 19,
   "id": "fd047f41",
   "metadata": {},
   "outputs": [
    {
     "ename": "ValueError",
     "evalue": "setting an array element with a sequence. The requested array has an inhomogeneous shape after 1 dimensions. The detected shape was (2,) + inhomogeneous part.",
     "output_type": "error",
     "traceback": [
      "\u001b[1;31m---------------------------------------------------------------------------\u001b[0m",
      "\u001b[1;31mValueError\u001b[0m                                Traceback (most recent call last)",
      "Cell \u001b[1;32mIn[19], line 3\u001b[0m\n\u001b[0;32m      1\u001b[0m cc \u001b[38;5;241m=\u001b[39m c \u001b[38;5;241m=\u001b[39m [[\u001b[38;5;241m11\u001b[39m , \u001b[38;5;241m2\u001b[39m] \n\u001b[0;32m      2\u001b[0m     ,[\u001b[38;5;241m2\u001b[39m , \u001b[38;5;241m4\u001b[39m , \u001b[38;5;241m5\u001b[39m]]\n\u001b[1;32m----> 3\u001b[0m array_cc \u001b[38;5;241m=\u001b[39m \u001b[43mnp\u001b[49m\u001b[38;5;241;43m.\u001b[39;49m\u001b[43marray\u001b[49m\u001b[43m(\u001b[49m\u001b[43mcc\u001b[49m\u001b[43m)\u001b[49m\n",
      "\u001b[1;31mValueError\u001b[0m: setting an array element with a sequence. The requested array has an inhomogeneous shape after 1 dimensions. The detected shape was (2,) + inhomogeneous part."
     ]
    }
   ],
   "source": [
    "cc = c = [[11 , 2] \n",
    "    ,[2 , 4 , 5]]\n",
    "array_cc = np.array(cc)"
   ]
  },
  {
   "cell_type": "code",
   "execution_count": 14,
   "id": "2edc5bd5",
   "metadata": {},
   "outputs": [
    {
     "name": "stdout",
     "output_type": "stream",
     "text": [
      "[[11, 2], [2, 4, 5]] \n",
      " <class 'list'>\n"
     ]
    }
   ],
   "source": [
    "print(cc , '\\n' ,  type(cc))"
   ]
  },
  {
   "cell_type": "code",
   "execution_count": 15,
   "id": "174f2469",
   "metadata": {},
   "outputs": [
    {
     "name": "stdout",
     "output_type": "stream",
     "text": [
      "[list([11, 2]) list([2, 4, 5])] \n",
      " <class 'numpy.ndarray'>\n"
     ]
    }
   ],
   "source": [
    "print(array_cc , '\\n' ,  type(array_cc))"
   ]
  },
  {
   "cell_type": "markdown",
   "id": "46bf4560",
   "metadata": {},
   "source": [
    "## High dimentional Array (Tensor)\n"
   ]
  },
  {
   "cell_type": "code",
   "execution_count": 13,
   "id": "8e91d5c8",
   "metadata": {},
   "outputs": [
    {
     "data": {
      "image/png": "[encoded data removed]",
      "text/plain": [
       "<IPython.core.display.Image object>"
      ]
     },
     "execution_count": 13,
     "metadata": {
      "image/png": {
       "height": 250,
       "width": 400
      }
     },
     "output_type": "execute_result"
    }
   ],
   "source": [
    "from IPython import display\n",
    "display.Image(\"Untitled-4.png\" ,width = 400, height = 250)"
   ]
  },
  {
   "cell_type": "code",
   "execution_count": 16,
   "id": "ae56db51",
   "metadata": {},
   "outputs": [],
   "source": [
    "array_ddd = np.array(\n",
    "    [\n",
    "        \n",
    "    [[1,2],\n",
    "     [3,4]],\n",
    "        \n",
    "    [[5,6],\n",
    "     [7,8]],\n",
    "        \n",
    "    [[9,10],\n",
    "     [11,12]]\n",
    "        \n",
    "    ] \n",
    ")"
   ]
  },
  {
   "cell_type": "markdown",
   "id": "37750117",
   "metadata": {},
   "source": [
    "## Array shape detection"
   ]
  },
  {
   "cell_type": "code",
   "execution_count": 17,
   "id": "479083a8",
   "metadata": {},
   "outputs": [
    {
     "name": "stdout",
     "output_type": "stream",
     "text": [
      "[11  2 23 41 56 61]\n",
      "\n",
      "\n",
      "(6,)\n"
     ]
    }
   ],
   "source": [
    "print(array_b)\n",
    "print('\\n')\n",
    "print(array_b.shape)"
   ]
  },
  {
   "cell_type": "code",
   "execution_count": 18,
   "id": "0ea8fd0e",
   "metadata": {},
   "outputs": [
    {
     "name": "stdout",
     "output_type": "stream",
     "text": [
      "[[11  2 23 41 56 61]]\n",
      "\n",
      "\n",
      "(1, 6)\n"
     ]
    }
   ],
   "source": [
    "print(array_c_1)\n",
    "print('\\n')\n",
    "print(array_c_1.shape)"
   ]
  },
  {
   "cell_type": "code",
   "execution_count": 19,
   "id": "eaa128ac",
   "metadata": {},
   "outputs": [
    {
     "name": "stdout",
     "output_type": "stream",
     "text": [
      "[[11  2]\n",
      " [ 2  4]]\n",
      "\n",
      "\n",
      "(2, 2)\n"
     ]
    }
   ],
   "source": [
    "print(array_c_2)\n",
    "print('\\n')\n",
    "print(array_c_2.shape)"
   ]
  },
  {
   "cell_type": "code",
   "execution_count": 20,
   "id": "84edc3ed",
   "metadata": {},
   "outputs": [
    {
     "name": "stdout",
     "output_type": "stream",
     "text": [
      "[[[ 1  2]\n",
      "  [ 3  4]]\n",
      "\n",
      " [[ 5  6]\n",
      "  [ 7  8]]\n",
      "\n",
      " [[ 9 10]\n",
      "  [11 12]]]\n",
      "\n",
      "\n",
      "(3, 2, 2)\n"
     ]
    }
   ],
   "source": [
    "print(array_ddd)\n",
    "print('\\n')\n",
    "print(array_ddd.shape)"
   ]
  },
  {
   "cell_type": "markdown",
   "id": "5a801b15",
   "metadata": {},
   "source": [
    "## Array reshaping"
   ]
  },
  {
   "cell_type": "code",
   "execution_count": 21,
   "id": "7175b3c7",
   "metadata": {},
   "outputs": [
    {
     "data": {
      "text/plain": [
       "array([[ 1,  2],\n",
       "       [ 3,  4],\n",
       "       [ 5,  6],\n",
       "       [ 7,  8],\n",
       "       [ 9, 10],\n",
       "       [11, 12]])"
      ]
     },
     "execution_count": 21,
     "metadata": {},
     "output_type": "execute_result"
    }
   ],
   "source": [
    "array_ddd.reshape([6,2])"
   ]
  },
  {
   "cell_type": "markdown",
   "id": "62d1a7f4",
   "metadata": {},
   "source": [
    "# 3. Special array generators"
   ]
  },
  {
   "cell_type": "markdown",
   "id": "fbeaab36",
   "metadata": {},
   "source": [
    "# Zero"
   ]
  },
  {
   "cell_type": "code",
   "execution_count": 22,
   "id": "0d5c1d20",
   "metadata": {},
   "outputs": [],
   "source": [
    "all_zero = np.zeros([1, 6])"
   ]
  },
  {
   "cell_type": "code",
   "execution_count": 23,
   "id": "43b502b3",
   "metadata": {},
   "outputs": [
    {
     "data": {
      "text/plain": [
       "array([[0., 0., 0., 0., 0., 0.]])"
      ]
     },
     "execution_count": 23,
     "metadata": {},
     "output_type": "execute_result"
    }
   ],
   "source": [
    "all_zero"
   ]
  },
  {
   "cell_type": "code",
   "execution_count": 24,
   "id": "561d1609",
   "metadata": {},
   "outputs": [],
   "source": [
    "all_zero = np.zeros([6])"
   ]
  },
  {
   "cell_type": "code",
   "execution_count": 25,
   "id": "3e8be3fa",
   "metadata": {},
   "outputs": [
    {
     "data": {
      "text/plain": [
       "array([0., 0., 0., 0., 0., 0.])"
      ]
     },
     "execution_count": 25,
     "metadata": {},
     "output_type": "execute_result"
    }
   ],
   "source": [
    "all_zero"
   ]
  },
  {
   "cell_type": "code",
   "execution_count": 26,
   "id": "ec3515ba",
   "metadata": {},
   "outputs": [],
   "source": [
    "all_zero = np.zeros([2,3])"
   ]
  },
  {
   "cell_type": "code",
   "execution_count": 27,
   "id": "7acc35b5",
   "metadata": {},
   "outputs": [
    {
     "data": {
      "text/plain": [
       "array([[0., 0., 0.],\n",
       "       [0., 0., 0.]])"
      ]
     },
     "execution_count": 27,
     "metadata": {},
     "output_type": "execute_result"
    }
   ],
   "source": [
    "all_zero"
   ]
  },
  {
   "cell_type": "code",
   "execution_count": 28,
   "id": "b3c0849d",
   "metadata": {},
   "outputs": [],
   "source": [
    "all_zero = np.zeros([3,2])"
   ]
  },
  {
   "cell_type": "code",
   "execution_count": 29,
   "id": "20a041db",
   "metadata": {},
   "outputs": [
    {
     "data": {
      "text/plain": [
       "array([[0., 0.],\n",
       "       [0., 0.],\n",
       "       [0., 0.]])"
      ]
     },
     "execution_count": 29,
     "metadata": {},
     "output_type": "execute_result"
    }
   ],
   "source": [
    "all_zero"
   ]
  },
  {
   "cell_type": "markdown",
   "id": "ad9583a0",
   "metadata": {},
   "source": [
    "# One"
   ]
  },
  {
   "cell_type": "code",
   "execution_count": 30,
   "id": "e664d0d7",
   "metadata": {},
   "outputs": [],
   "source": [
    "all_one = np.ones([20,100])"
   ]
  },
  {
   "cell_type": "code",
   "execution_count": 31,
   "id": "d2b5e5c7",
   "metadata": {},
   "outputs": [
    {
     "data": {
      "text/plain": [
       "array([[1., 1., 1., ..., 1., 1., 1.],\n",
       "       [1., 1., 1., ..., 1., 1., 1.],\n",
       "       [1., 1., 1., ..., 1., 1., 1.],\n",
       "       ...,\n",
       "       [1., 1., 1., ..., 1., 1., 1.],\n",
       "       [1., 1., 1., ..., 1., 1., 1.],\n",
       "       [1., 1., 1., ..., 1., 1., 1.]])"
      ]
     },
     "execution_count": 31,
     "metadata": {},
     "output_type": "execute_result"
    }
   ],
   "source": [
    "all_one"
   ]
  },
  {
   "cell_type": "markdown",
   "id": "4b707ec9",
   "metadata": {},
   "source": [
    "## Arange "
   ]
  },
  {
   "cell_type": "code",
   "execution_count": 32,
   "id": "6a4f52bf",
   "metadata": {},
   "outputs": [],
   "source": [
    "_0_4_arange = np.arange(5)"
   ]
  },
  {
   "cell_type": "code",
   "execution_count": 33,
   "id": "4d9ffc86",
   "metadata": {},
   "outputs": [
    {
     "name": "stdout",
     "output_type": "stream",
     "text": [
      "[0 1 2 3 4]\n"
     ]
    }
   ],
   "source": [
    "print(_0_4_arange)"
   ]
  },
  {
   "cell_type": "code",
   "execution_count": 34,
   "id": "a073e377",
   "metadata": {},
   "outputs": [],
   "source": [
    "_1_5_arange = np.arange(1,6)"
   ]
  },
  {
   "cell_type": "code",
   "execution_count": 35,
   "id": "e46ab8da",
   "metadata": {},
   "outputs": [
    {
     "name": "stdout",
     "output_type": "stream",
     "text": [
      "[1 2 3 4 5]\n"
     ]
    }
   ],
   "source": [
    "print(_1_5_arange)"
   ]
  },
  {
   "cell_type": "code",
   "execution_count": 36,
   "id": "67846320",
   "metadata": {},
   "outputs": [],
   "source": [
    "_5_20_3_arange = np.arange(5,20 , 3)"
   ]
  },
  {
   "cell_type": "code",
   "execution_count": 180,
   "id": "8bf6e317",
   "metadata": {},
   "outputs": [
    {
     "ename": "NameError",
     "evalue": "name '_5_20_3_arange' is not defined",
     "output_type": "error",
     "traceback": [
      "\u001b[1;31m---------------------------------------------------------------------------\u001b[0m",
      "\u001b[1;31mNameError\u001b[0m                                 Traceback (most recent call last)",
      "\u001b[1;32m<ipython-input-180-db2621b9a71e>\u001b[0m in \u001b[0;36m<module>\u001b[1;34m\u001b[0m\n\u001b[1;32m----> 1\u001b[1;33m \u001b[0mprint\u001b[0m\u001b[1;33m(\u001b[0m\u001b[0m_5_20_3_arange\u001b[0m\u001b[1;33m)\u001b[0m\u001b[1;33m\u001b[0m\u001b[1;33m\u001b[0m\u001b[0m\n\u001b[0m",
      "\u001b[1;31mNameError\u001b[0m: name '_5_20_3_arange' is not defined"
     ]
    }
   ],
   "source": [
    "print(_5_20_3_arange)"
   ]
  },
  {
   "cell_type": "markdown",
   "id": "2d129348",
   "metadata": {},
   "source": [
    "## Linspace"
   ]
  },
  {
   "cell_type": "code",
   "execution_count": 182,
   "id": "133aa16c",
   "metadata": {},
   "outputs": [
    {
     "data": {
      "text/plain": [
       "array([0.        , 0.02020202, 0.04040404, 0.06060606, 0.08080808,\n",
       "       0.1010101 , 0.12121212, 0.14141414, 0.16161616, 0.18181818,\n",
       "       0.2020202 , 0.22222222, 0.24242424, 0.26262626, 0.28282828,\n",
       "       0.3030303 , 0.32323232, 0.34343434, 0.36363636, 0.38383838,\n",
       "       0.4040404 , 0.42424242, 0.44444444, 0.46464646, 0.48484848,\n",
       "       0.50505051, 0.52525253, 0.54545455, 0.56565657, 0.58585859,\n",
       "       0.60606061, 0.62626263, 0.64646465, 0.66666667, 0.68686869,\n",
       "       0.70707071, 0.72727273, 0.74747475, 0.76767677, 0.78787879,\n",
       "       0.80808081, 0.82828283, 0.84848485, 0.86868687, 0.88888889,\n",
       "       0.90909091, 0.92929293, 0.94949495, 0.96969697, 0.98989899,\n",
       "       1.01010101, 1.03030303, 1.05050505, 1.07070707, 1.09090909,\n",
       "       1.11111111, 1.13131313, 1.15151515, 1.17171717, 1.19191919,\n",
       "       1.21212121, 1.23232323, 1.25252525, 1.27272727, 1.29292929,\n",
       "       1.31313131, 1.33333333, 1.35353535, 1.37373737, 1.39393939,\n",
       "       1.41414141, 1.43434343, 1.45454545, 1.47474747, 1.49494949,\n",
       "       1.51515152, 1.53535354, 1.55555556, 1.57575758, 1.5959596 ,\n",
       "       1.61616162, 1.63636364, 1.65656566, 1.67676768, 1.6969697 ,\n",
       "       1.71717172, 1.73737374, 1.75757576, 1.77777778, 1.7979798 ,\n",
       "       1.81818182, 1.83838384, 1.85858586, 1.87878788, 1.8989899 ,\n",
       "       1.91919192, 1.93939394, 1.95959596, 1.97979798, 2.        ])"
      ]
     },
     "execution_count": 182,
     "metadata": {},
     "output_type": "execute_result"
    }
   ],
   "source": [
    "np.linspace(0,2 , 100)"
   ]
  },
  {
   "cell_type": "code",
   "execution_count": 183,
   "id": "cdb99684",
   "metadata": {},
   "outputs": [
    {
     "data": {
      "text/plain": [
       "array([0.        , 0.06122449, 0.12244898, 0.18367347, 0.24489796,\n",
       "       0.30612245, 0.36734694, 0.42857143, 0.48979592, 0.55102041,\n",
       "       0.6122449 , 0.67346939, 0.73469388, 0.79591837, 0.85714286,\n",
       "       0.91836735, 0.97959184, 1.04081633, 1.10204082, 1.16326531,\n",
       "       1.2244898 , 1.28571429, 1.34693878, 1.40816327, 1.46938776,\n",
       "       1.53061224, 1.59183673, 1.65306122, 1.71428571, 1.7755102 ,\n",
       "       1.83673469, 1.89795918, 1.95918367, 2.02040816, 2.08163265,\n",
       "       2.14285714, 2.20408163, 2.26530612, 2.32653061, 2.3877551 ,\n",
       "       2.44897959, 2.51020408, 2.57142857, 2.63265306, 2.69387755,\n",
       "       2.75510204, 2.81632653, 2.87755102, 2.93877551, 3.        ])"
      ]
     },
     "execution_count": 183,
     "metadata": {},
     "output_type": "execute_result"
    }
   ],
   "source": [
    "np.linspace(0,3 , 50)"
   ]
  },
  {
   "cell_type": "markdown",
   "id": "e28dd6ba",
   "metadata": {},
   "source": [
    "# 4. Append, Split"
   ]
  },
  {
   "cell_type": "markdown",
   "id": "590f2b48",
   "metadata": {},
   "source": [
    "## Append"
   ]
  },
  {
   "cell_type": "code",
   "execution_count": 38,
   "id": "50a2b771",
   "metadata": {},
   "outputs": [
    {
     "name": "stdout",
     "output_type": "stream",
     "text": [
      "[[1]\n",
      " [2]]\n",
      "\n",
      "\n",
      "[[1 2]]\n"
     ]
    }
   ],
   "source": [
    "a = np.array([[1]])\n",
    "b = np.array([[2]])\n",
    "\n",
    "row_append = np.append(a,b , axis = 0)\n",
    "column_append = np.append(a,b , axis = 1)\n",
    "\n",
    "print(row_append)\n",
    "print('\\n')\n",
    "print(column_append)"
   ]
  },
  {
   "cell_type": "code",
   "execution_count": 39,
   "id": "9f140c31",
   "metadata": {},
   "outputs": [],
   "source": [
    "new_array = np.append(_0_4_arange , _1_5_arange)"
   ]
  },
  {
   "cell_type": "code",
   "execution_count": 40,
   "id": "ff7c277c",
   "metadata": {},
   "outputs": [
    {
     "name": "stdout",
     "output_type": "stream",
     "text": [
      "[0 1 2 3 4 1 2 3 4 5]\n"
     ]
    }
   ],
   "source": [
    "print(new_array)"
   ]
  },
  {
   "cell_type": "code",
   "execution_count": 41,
   "id": "d8d2b8a0",
   "metadata": {},
   "outputs": [
    {
     "name": "stdout",
     "output_type": "stream",
     "text": [
      "[[1 2]\n",
      " [3 4]]\n",
      "\n",
      "\n",
      "[[ 5  6]\n",
      " [ 7  8]\n",
      " [ 9 10]\n",
      " [11 12]]\n",
      "\n",
      "\n",
      "[ 1  2  3  4  5  6  7  8  9 10 11 12]\n",
      "\n",
      "\n",
      "[[ 1  2]\n",
      " [ 3  4]\n",
      " [ 5  6]\n",
      " [ 7  8]\n",
      " [ 9 10]\n",
      " [11 12]]\n"
     ]
    }
   ],
   "source": [
    "a = np.array([[1,2] , [3,4]])\n",
    "b = np.array([[5,6] , [7,8] , [9,10] , [11,12]])\n",
    "\n",
    "print(a)\n",
    "\n",
    "print('\\n')\n",
    "print(b)\n",
    "\n",
    "c = np.append(a,b)\n",
    "\n",
    "cc = np.append(a,b , axis = 0)\n",
    "\n",
    "print('\\n')\n",
    "print(c)\n",
    "\n",
    "print('\\n')\n",
    "print(cc)"
   ]
  },
  {
   "cell_type": "code",
   "execution_count": 42,
   "id": "64e38b9e",
   "metadata": {},
   "outputs": [
    {
     "ename": "ValueError",
     "evalue": "all the input array dimensions for the concatenation axis must match exactly, but along dimension 0, the array at index 0 has size 2 and the array at index 1 has size 4",
     "output_type": "error",
     "traceback": [
      "\u001b[1;31m---------------------------------------------------------------------------\u001b[0m",
      "\u001b[1;31mValueError\u001b[0m                                Traceback (most recent call last)",
      "\u001b[1;32m<ipython-input-42-b8fdbb99e9be>\u001b[0m in \u001b[0;36m<module>\u001b[1;34m\u001b[0m\n\u001b[1;32m----> 1\u001b[1;33m \u001b[0mcc\u001b[0m \u001b[1;33m=\u001b[0m \u001b[0mnp\u001b[0m\u001b[1;33m.\u001b[0m\u001b[0mappend\u001b[0m\u001b[1;33m(\u001b[0m\u001b[0ma\u001b[0m\u001b[1;33m,\u001b[0m\u001b[0mb\u001b[0m \u001b[1;33m,\u001b[0m \u001b[0maxis\u001b[0m \u001b[1;33m=\u001b[0m \u001b[1;36m1\u001b[0m\u001b[1;33m)\u001b[0m\u001b[1;33m\u001b[0m\u001b[1;33m\u001b[0m\u001b[0m\n\u001b[0m",
      "\u001b[1;32m<__array_function__ internals>\u001b[0m in \u001b[0;36mappend\u001b[1;34m(*args, **kwargs)\u001b[0m\n",
      "\u001b[1;32m~\\anaconda3\\envs\\Amin\\lib\\site-packages\\numpy\\lib\\function_base.py\u001b[0m in \u001b[0;36mappend\u001b[1;34m(arr, values, axis)\u001b[0m\n\u001b[0;32m   4669\u001b[0m         \u001b[0mvalues\u001b[0m \u001b[1;33m=\u001b[0m \u001b[0mravel\u001b[0m\u001b[1;33m(\u001b[0m\u001b[0mvalues\u001b[0m\u001b[1;33m)\u001b[0m\u001b[1;33m\u001b[0m\u001b[1;33m\u001b[0m\u001b[0m\n\u001b[0;32m   4670\u001b[0m         \u001b[0maxis\u001b[0m \u001b[1;33m=\u001b[0m \u001b[0marr\u001b[0m\u001b[1;33m.\u001b[0m\u001b[0mndim\u001b[0m\u001b[1;33m-\u001b[0m\u001b[1;36m1\u001b[0m\u001b[1;33m\u001b[0m\u001b[1;33m\u001b[0m\u001b[0m\n\u001b[1;32m-> 4671\u001b[1;33m     \u001b[1;32mreturn\u001b[0m \u001b[0mconcatenate\u001b[0m\u001b[1;33m(\u001b[0m\u001b[1;33m(\u001b[0m\u001b[0marr\u001b[0m\u001b[1;33m,\u001b[0m \u001b[0mvalues\u001b[0m\u001b[1;33m)\u001b[0m\u001b[1;33m,\u001b[0m \u001b[0maxis\u001b[0m\u001b[1;33m=\u001b[0m\u001b[0maxis\u001b[0m\u001b[1;33m)\u001b[0m\u001b[1;33m\u001b[0m\u001b[1;33m\u001b[0m\u001b[0m\n\u001b[0m\u001b[0;32m   4672\u001b[0m \u001b[1;33m\u001b[0m\u001b[0m\n\u001b[0;32m   4673\u001b[0m \u001b[1;33m\u001b[0m\u001b[0m\n",
      "\u001b[1;32m<__array_function__ internals>\u001b[0m in \u001b[0;36mconcatenate\u001b[1;34m(*args, **kwargs)\u001b[0m\n",
      "\u001b[1;31mValueError\u001b[0m: all the input array dimensions for the concatenation axis must match exactly, but along dimension 0, the array at index 0 has size 2 and the array at index 1 has size 4"
     ]
    }
   ],
   "source": [
    "cc = np.append(a,b , axis = 1)"
   ]
  },
  {
   "cell_type": "markdown",
   "id": "1f63620c",
   "metadata": {},
   "source": [
    "## Split"
   ]
  },
  {
   "cell_type": "code",
   "execution_count": 43,
   "id": "a59cc6a3",
   "metadata": {},
   "outputs": [],
   "source": [
    "a , b , c = np.split(cc,3)"
   ]
  },
  {
   "cell_type": "code",
   "execution_count": 44,
   "id": "2499f223",
   "metadata": {},
   "outputs": [
    {
     "name": "stdout",
     "output_type": "stream",
     "text": [
      "[[1 2]\n",
      " [3 4]]\n",
      "\n",
      "\n",
      "[[5 6]\n",
      " [7 8]]\n",
      "\n",
      "\n",
      "[[ 9 10]\n",
      " [11 12]]\n"
     ]
    }
   ],
   "source": [
    "print(a)\n",
    "print('\\n')\n",
    "print(b)\n",
    "print('\\n')\n",
    "print(c)"
   ]
  },
  {
   "cell_type": "markdown",
   "id": "d5163f30",
   "metadata": {},
   "source": [
    "# 5. Array Slicing"
   ]
  },
  {
   "cell_type": "code",
   "execution_count": 45,
   "id": "e3095686",
   "metadata": {},
   "outputs": [
    {
     "name": "stdout",
     "output_type": "stream",
     "text": [
      "array 1D = \n",
      "[0 1 2 3 4 5 6 7 8 9]\n",
      "\n",
      "\n",
      "array 2D = \n",
      "[[0 1 2 3 4]\n",
      " [5 6 7 8 9]]\n"
     ]
    }
   ],
   "source": [
    "Array_1D = np.arange(0,10)\n",
    "Array_2D = Array_1D.reshape([2,5])\n",
    "\n",
    "print(\"array 1D = \")\n",
    "print(Array_1D)\n",
    "\n",
    "print('\\n')\n",
    "\n",
    "print(\"array 2D = \")\n",
    "print(Array_2D)\n"
   ]
  },
  {
   "cell_type": "code",
   "execution_count": 46,
   "id": "31c1c6ea",
   "metadata": {},
   "outputs": [
    {
     "name": "stdout",
     "output_type": "stream",
     "text": [
      "[5 6 7 8 9]\n"
     ]
    }
   ],
   "source": [
    "slice_array_1D = Array_1D[5:10]\n",
    "print(slice_array_1D)"
   ]
  },
  {
   "cell_type": "code",
   "execution_count": 47,
   "id": "e006bbb4",
   "metadata": {},
   "outputs": [
    {
     "name": "stdout",
     "output_type": "stream",
     "text": [
      "[[2 3]\n",
      " [7 8]]\n"
     ]
    }
   ],
   "source": [
    "slice_array_2D = Array_2D[: , 2:4]\n",
    "print(slice_array_2D)"
   ]
  },
  {
   "cell_type": "code",
   "execution_count": 48,
   "id": "d6e8e262",
   "metadata": {},
   "outputs": [
    {
     "name": "stdout",
     "output_type": "stream",
     "text": [
      "[5 6 7 8 9]\n"
     ]
    }
   ],
   "source": [
    "slice_array_2D = Array_2D[1, :]\n",
    "print(slice_array_2D)"
   ]
  },
  {
   "cell_type": "code",
   "execution_count": 49,
   "id": "6f139e63",
   "metadata": {},
   "outputs": [
    {
     "name": "stdout",
     "output_type": "stream",
     "text": [
      "[7 8 9]\n"
     ]
    }
   ],
   "source": [
    "slice_array_2D = Array_2D[1, -3:]\n",
    "print(slice_array_2D)"
   ]
  },
  {
   "cell_type": "markdown",
   "id": "6c7940a3",
   "metadata": {},
   "source": [
    "# Delete"
   ]
  },
  {
   "cell_type": "code",
   "execution_count": 50,
   "id": "78b8ad2a",
   "metadata": {},
   "outputs": [
    {
     "data": {
      "text/plain": [
       "array([[ 1,  2],\n",
       "       [ 3,  4],\n",
       "       [ 5,  6],\n",
       "       [ 7,  8],\n",
       "       [11, 12]])"
      ]
     },
     "execution_count": 50,
     "metadata": {},
     "output_type": "execute_result"
    }
   ],
   "source": [
    "np.delete(cc , 4 , 0)"
   ]
  },
  {
   "cell_type": "code",
   "execution_count": 51,
   "id": "7bf2d3b7",
   "metadata": {},
   "outputs": [
    {
     "data": {
      "text/plain": [
       "array([[ 1],\n",
       "       [ 3],\n",
       "       [ 5],\n",
       "       [ 7],\n",
       "       [ 9],\n",
       "       [11]])"
      ]
     },
     "execution_count": 51,
     "metadata": {},
     "output_type": "execute_result"
    }
   ],
   "source": [
    "np.delete(cc , 1 , 1)"
   ]
  },
  {
   "cell_type": "markdown",
   "id": "01edf8aa",
   "metadata": {},
   "source": [
    "# 6. Conditions on arrays"
   ]
  },
  {
   "cell_type": "markdown",
   "id": "6f9186a0",
   "metadata": {},
   "source": [
    "## Single Condition"
   ]
  },
  {
   "cell_type": "code",
   "execution_count": 52,
   "id": "213583f2",
   "metadata": {},
   "outputs": [],
   "source": [
    "a = np.array([100 , 123 , 230 , 214 , 12 , 152 , 759 , 234 , 195 , 146 , 5 , 3])"
   ]
  },
  {
   "cell_type": "code",
   "execution_count": 53,
   "id": "0fa0507a",
   "metadata": {},
   "outputs": [
    {
     "data": {
      "text/plain": [
       "array([False, False,  True,  True, False,  True,  True,  True,  True,\n",
       "       False, False, False])"
      ]
     },
     "execution_count": 53,
     "metadata": {},
     "output_type": "execute_result"
    }
   ],
   "source": [
    "a > 150"
   ]
  },
  {
   "cell_type": "code",
   "execution_count": 54,
   "id": "6c94669b",
   "metadata": {},
   "outputs": [
    {
     "data": {
      "text/plain": [
       "array([230, 214, 152, 759, 234, 195])"
      ]
     },
     "execution_count": 54,
     "metadata": {},
     "output_type": "execute_result"
    }
   ],
   "source": [
    "a[ a > 150 ]"
   ]
  },
  {
   "cell_type": "code",
   "execution_count": 55,
   "id": "5d44db66",
   "metadata": {},
   "outputs": [
    {
     "data": {
      "text/plain": [
       "array([ True, False,  True, False, False, False, False, False,  True,\n",
       "       False,  True, False])"
      ]
     },
     "execution_count": 55,
     "metadata": {},
     "output_type": "execute_result"
    }
   ],
   "source": [
    "a % 5 == 0"
   ]
  },
  {
   "cell_type": "code",
   "execution_count": 56,
   "id": "a76310a3",
   "metadata": {},
   "outputs": [
    {
     "data": {
      "text/plain": [
       "array([100, 230, 195,   5])"
      ]
     },
     "execution_count": 56,
     "metadata": {},
     "output_type": "execute_result"
    }
   ],
   "source": [
    "a[a % 5 == 0]"
   ]
  },
  {
   "cell_type": "markdown",
   "id": "33e6654b",
   "metadata": {},
   "source": [
    "## Multiple conditions with AND "
   ]
  },
  {
   "cell_type": "code",
   "execution_count": 57,
   "id": "188124fc",
   "metadata": {},
   "outputs": [
    {
     "data": {
      "text/plain": [
       "array([False, False,  True, False, False, False, False, False,  True,\n",
       "       False, False, False])"
      ]
     },
     "execution_count": 57,
     "metadata": {},
     "output_type": "execute_result"
    }
   ],
   "source": [
    "(a>150) & (a % 5 == 0)"
   ]
  },
  {
   "cell_type": "code",
   "execution_count": 58,
   "id": "23e940ca",
   "metadata": {},
   "outputs": [
    {
     "data": {
      "text/plain": [
       "array([230, 195])"
      ]
     },
     "execution_count": 58,
     "metadata": {},
     "output_type": "execute_result"
    }
   ],
   "source": [
    "a[(a>150) & (a % 5 == 0)]"
   ]
  },
  {
   "cell_type": "markdown",
   "id": "e87dadc6",
   "metadata": {},
   "source": [
    "## Multiple conditions with OR"
   ]
  },
  {
   "cell_type": "code",
   "execution_count": 59,
   "id": "0da78deb",
   "metadata": {},
   "outputs": [
    {
     "data": {
      "text/plain": [
       "array([ True, False,  True,  True, False,  True,  True,  True,  True,\n",
       "       False,  True, False])"
      ]
     },
     "execution_count": 59,
     "metadata": {},
     "output_type": "execute_result"
    }
   ],
   "source": [
    "(a>150) | (a % 5 == 0)"
   ]
  },
  {
   "cell_type": "code",
   "execution_count": 60,
   "id": "9033995c",
   "metadata": {},
   "outputs": [
    {
     "data": {
      "text/plain": [
       "array([100, 230, 214, 152, 759, 234, 195,   5])"
      ]
     },
     "execution_count": 60,
     "metadata": {},
     "output_type": "execute_result"
    }
   ],
   "source": [
    "a[(a>150) | (a % 5 == 0)]"
   ]
  },
  {
   "cell_type": "markdown",
   "id": "176969f2",
   "metadata": {},
   "source": [
    "# 7. Basic operations"
   ]
  },
  {
   "cell_type": "code",
   "execution_count": 103,
   "id": "34f025e1",
   "metadata": {},
   "outputs": [
    {
     "name": "stdout",
     "output_type": "stream",
     "text": [
      "[[1]\n",
      " [2]]\n",
      "\n",
      "\n",
      "[[2]\n",
      " [0]]\n"
     ]
    }
   ],
   "source": [
    "a = np.array([[1] , [2]] )\n",
    "b = np.array([[2] , [0]])\n",
    "\n",
    "print(a)\n",
    "print('\\n')\n",
    "print(b)"
   ]
  },
  {
   "cell_type": "code",
   "execution_count": 90,
   "id": "11c998ff",
   "metadata": {},
   "outputs": [
    {
     "name": "stdout",
     "output_type": "stream",
     "text": [
      "[[3]\n",
      " [2]]\n"
     ]
    }
   ],
   "source": [
    "print(a+b)"
   ]
  },
  {
   "cell_type": "code",
   "execution_count": 91,
   "id": "14c40b04",
   "metadata": {},
   "outputs": [
    {
     "name": "stdout",
     "output_type": "stream",
     "text": [
      "[[-1]\n",
      " [ 2]]\n"
     ]
    }
   ],
   "source": [
    "print(a-b)"
   ]
  },
  {
   "cell_type": "code",
   "execution_count": 92,
   "id": "f1054d37",
   "metadata": {},
   "outputs": [
    {
     "name": "stdout",
     "output_type": "stream",
     "text": [
      "[[2]\n",
      " [0]]\n"
     ]
    }
   ],
   "source": [
    "print(a*b)"
   ]
  },
  {
   "cell_type": "code",
   "execution_count": 94,
   "id": "6cc3f9d1",
   "metadata": {},
   "outputs": [
    {
     "name": "stdout",
     "output_type": "stream",
     "text": [
      "[[0.5]\n",
      " [inf]]\n"
     ]
    },
    {
     "name": "stderr",
     "output_type": "stream",
     "text": [
      "<ipython-input-94-b0b33af54914>:1: RuntimeWarning: divide by zero encountered in true_divide\n",
      "  print(a/b)\n"
     ]
    }
   ],
   "source": [
    "print(a/b)"
   ]
  },
  {
   "cell_type": "code",
   "execution_count": 104,
   "id": "68cab620",
   "metadata": {},
   "outputs": [
    {
     "name": "stdout",
     "output_type": "stream",
     "text": [
      "[[1]\n",
      " [2]]\n"
     ]
    }
   ],
   "source": [
    "print(a)"
   ]
  },
  {
   "cell_type": "code",
   "execution_count": 109,
   "id": "4a63ea79",
   "metadata": {},
   "outputs": [],
   "source": [
    "a[0,0] = a[0,0] + 1\n",
    "\n",
    "# or\n",
    "\n",
    "a[0,0] += 1"
   ]
  },
  {
   "cell_type": "code",
   "execution_count": 111,
   "id": "0b7ac9e5",
   "metadata": {},
   "outputs": [
    {
     "data": {
      "text/plain": [
       "array([[4],\n",
       "       [2]])"
      ]
     },
     "execution_count": 111,
     "metadata": {},
     "output_type": "execute_result"
    }
   ],
   "source": [
    "a"
   ]
  },
  {
   "cell_type": "code",
   "execution_count": 118,
   "id": "a6595641",
   "metadata": {},
   "outputs": [],
   "source": [
    "matrix_55 = np.zeros([5,5])"
   ]
  },
  {
   "cell_type": "code",
   "execution_count": 119,
   "id": "bca04686",
   "metadata": {},
   "outputs": [
    {
     "name": "stdout",
     "output_type": "stream",
     "text": [
      "[[0. 0. 0. 0. 0.]\n",
      " [0. 0. 0. 0. 0.]\n",
      " [0. 0. 0. 0. 0.]\n",
      " [0. 0. 0. 0. 0.]\n",
      " [0. 0. 0. 0. 0.]]\n"
     ]
    }
   ],
   "source": [
    "print(matrix_55)"
   ]
  },
  {
   "cell_type": "code",
   "execution_count": 121,
   "id": "395d658e",
   "metadata": {},
   "outputs": [
    {
     "name": "stdout",
     "output_type": "stream",
     "text": [
      "[[0. 0. 0. 0. 0.]\n",
      " [0. 0. 0. 0. 0.]\n",
      " [0. 0. 2. 0. 0.]\n",
      " [0. 0. 0. 0. 0.]\n",
      " [0. 0. 0. 0. 0.]]\n"
     ]
    }
   ],
   "source": [
    "matrix_55[2,2] += 1\n",
    "print(matrix_55)"
   ]
  },
  {
   "cell_type": "code",
   "execution_count": 126,
   "id": "eaf6e233",
   "metadata": {},
   "outputs": [
    {
     "name": "stdout",
     "output_type": "stream",
     "text": [
      "[[0. 0. 0. 3. 0.]\n",
      " [0. 0. 0. 3. 0.]\n",
      " [0. 0. 2. 3. 0.]\n",
      " [2. 2. 2. 5. 2.]\n",
      " [0. 0. 0. 3. 0.]]\n"
     ]
    }
   ],
   "source": [
    "matrix_55[:,-2] +=1 \n",
    "print(matrix_55)"
   ]
  },
  {
   "cell_type": "code",
   "execution_count": 125,
   "id": "564f781b",
   "metadata": {},
   "outputs": [
    {
     "name": "stdout",
     "output_type": "stream",
     "text": [
      "[[0. 0. 0. 2. 0.]\n",
      " [0. 0. 0. 2. 0.]\n",
      " [0. 0. 2. 2. 0.]\n",
      " [2. 2. 2. 4. 2.]\n",
      " [0. 0. 0. 2. 0.]]\n"
     ]
    }
   ],
   "source": [
    "matrix_55[-2,:] +=1 \n",
    "print(matrix_55)"
   ]
  },
  {
   "cell_type": "markdown",
   "id": "5a6229d6",
   "metadata": {},
   "source": [
    "##  Pi, Sin, Cos"
   ]
  },
  {
   "cell_type": "code",
   "execution_count": 129,
   "id": "15dc3e42",
   "metadata": {},
   "outputs": [
    {
     "data": {
      "text/plain": [
       "3.141592653589793"
      ]
     },
     "execution_count": 129,
     "metadata": {},
     "output_type": "execute_result"
    }
   ],
   "source": [
    "np.pi"
   ]
  },
  {
   "cell_type": "code",
   "execution_count": 133,
   "id": "eda12743",
   "metadata": {},
   "outputs": [
    {
     "data": {
      "text/plain": [
       "1.0"
      ]
     },
     "execution_count": 133,
     "metadata": {},
     "output_type": "execute_result"
    }
   ],
   "source": [
    "np.sin(np.pi / 2 )"
   ]
  },
  {
   "cell_type": "code",
   "execution_count": 179,
   "id": "cbc32bed",
   "metadata": {},
   "outputs": [
    {
     "data": {
      "text/plain": [
       "6.123233995736766e-17"
      ]
     },
     "execution_count": 179,
     "metadata": {},
     "output_type": "execute_result"
    }
   ],
   "source": [
    "np.cos(np.pi / 2 )"
   ]
  },
  {
   "cell_type": "markdown",
   "id": "42f85c28",
   "metadata": {},
   "source": [
    "# 8. Matrix transpose, multiplication and inversion"
   ]
  },
  {
   "cell_type": "markdown",
   "id": "c603bd31",
   "metadata": {},
   "source": [
    "## Matrix transpose"
   ]
  },
  {
   "cell_type": "code",
   "execution_count": 23,
   "id": "43d1dcfb",
   "metadata": {},
   "outputs": [],
   "source": [
    "a = np.array([[1,2,3,4,5,6,7,8,9] , [1,2,3,4,5,6,7,8,9] , [1,2,3,4,5,6,7,8,9]])"
   ]
  },
  {
   "cell_type": "code",
   "execution_count": 27,
   "id": "222965d3",
   "metadata": {},
   "outputs": [
    {
     "name": "stdout",
     "output_type": "stream",
     "text": [
      "[[1 2 3 4 5 6 7 8 9]\n",
      " [1 2 3 4 5 6 7 8 9]\n",
      " [1 2 3 4 5 6 7 8 9]]\n",
      "\n",
      "\n",
      "(3, 9)\n"
     ]
    }
   ],
   "source": [
    "print(a)\n",
    "print('\\n')\n",
    "print(a.shape)"
   ]
  },
  {
   "cell_type": "code",
   "execution_count": 28,
   "id": "31db0e64",
   "metadata": {},
   "outputs": [],
   "source": [
    "transpose_a = np.transpose(a)"
   ]
  },
  {
   "cell_type": "code",
   "execution_count": 30,
   "id": "18bd9512",
   "metadata": {},
   "outputs": [
    {
     "name": "stdout",
     "output_type": "stream",
     "text": [
      "[[1 1 1]\n",
      " [2 2 2]\n",
      " [3 3 3]\n",
      " [4 4 4]\n",
      " [5 5 5]\n",
      " [6 6 6]\n",
      " [7 7 7]\n",
      " [8 8 8]\n",
      " [9 9 9]]\n",
      "\n",
      "\n",
      "(9, 3)\n"
     ]
    }
   ],
   "source": [
    "print(transpose_a)\n",
    "print('\\n')\n",
    "print(transpose_a.shape)"
   ]
  },
  {
   "cell_type": "markdown",
   "id": "6c9b0040",
   "metadata": {},
   "source": [
    "## Matrix multiplication "
   ]
  },
  {
   "cell_type": "code",
   "execution_count": 5,
   "id": "15a7e80d",
   "metadata": {},
   "outputs": [],
   "source": [
    "a = np.array([2,3])\n",
    "b = np.array([[4] , [6]])"
   ]
  },
  {
   "cell_type": "code",
   "execution_count": 6,
   "id": "57aac8bf",
   "metadata": {},
   "outputs": [
    {
     "data": {
      "text/plain": [
       "array([26])"
      ]
     },
     "execution_count": 6,
     "metadata": {},
     "output_type": "execute_result"
    }
   ],
   "source": [
    "np.matmul(a,b)"
   ]
  },
  {
   "cell_type": "code",
   "execution_count": 7,
   "id": "1af5f300",
   "metadata": {},
   "outputs": [
    {
     "ename": "ValueError",
     "evalue": "matmul: Input operand 1 has a mismatch in its core dimension 0, with gufunc signature (n?,k),(k,m?)->(n?,m?) (size 2 is different from 1)",
     "output_type": "error",
     "traceback": [
      "\u001b[1;31m---------------------------------------------------------------------------\u001b[0m",
      "\u001b[1;31mValueError\u001b[0m                                Traceback (most recent call last)",
      "\u001b[1;32m<ipython-input-7-1679ee62b0c5>\u001b[0m in \u001b[0;36m<module>\u001b[1;34m\u001b[0m\n\u001b[1;32m----> 1\u001b[1;33m \u001b[0mnp\u001b[0m\u001b[1;33m.\u001b[0m\u001b[0mmatmul\u001b[0m\u001b[1;33m(\u001b[0m\u001b[0mb\u001b[0m\u001b[1;33m,\u001b[0m\u001b[0ma\u001b[0m\u001b[1;33m)\u001b[0m\u001b[1;33m\u001b[0m\u001b[1;33m\u001b[0m\u001b[0m\n\u001b[0m",
      "\u001b[1;31mValueError\u001b[0m: matmul: Input operand 1 has a mismatch in its core dimension 0, with gufunc signature (n?,k),(k,m?)->(n?,m?) (size 2 is different from 1)"
     ]
    }
   ],
   "source": [
    "np.matmul(b,a)"
   ]
  },
  {
   "cell_type": "code",
   "execution_count": 37,
   "id": "b779781c",
   "metadata": {},
   "outputs": [],
   "source": [
    "a = np.array([[2 , 3] , [9 , 3]])\n",
    "b = np.array([[4 , 6] , [6 , 9]])"
   ]
  },
  {
   "cell_type": "code",
   "execution_count": 38,
   "id": "47638239",
   "metadata": {},
   "outputs": [
    {
     "data": {
      "text/plain": [
       "array([[26, 39],\n",
       "       [54, 81]])"
      ]
     },
     "execution_count": 38,
     "metadata": {},
     "output_type": "execute_result"
    }
   ],
   "source": [
    "np.matmul(a,b)"
   ]
  },
  {
   "cell_type": "markdown",
   "id": "21fe4669",
   "metadata": {},
   "source": [
    "## Matrix inversion"
   ]
  },
  {
   "cell_type": "code",
   "execution_count": 39,
   "id": "01166b6e",
   "metadata": {},
   "outputs": [],
   "source": [
    "inv_a = np.linalg.inv(a)"
   ]
  },
  {
   "cell_type": "code",
   "execution_count": 40,
   "id": "ab1717eb",
   "metadata": {},
   "outputs": [
    {
     "data": {
      "text/plain": [
       "array([[ 1.00000000e+00, -2.77555756e-17],\n",
       "       [ 0.00000000e+00,  1.00000000e+00]])"
      ]
     },
     "execution_count": 40,
     "metadata": {},
     "output_type": "execute_result"
    }
   ],
   "source": [
    "np.matmul(inv_a , a)"
   ]
  },
  {
   "cell_type": "code",
   "execution_count": 41,
   "id": "f7bc8f9e",
   "metadata": {},
   "outputs": [],
   "source": [
    "a = np.array([[2 , 3 , 56 , 59 , 56] ,\n",
    "              [5 , 23 , 5 , 12 , 23] ,\n",
    "              [1 , 2 , 112 , 90 , 21] ,\n",
    "              [124 , 317 , 56 , 59 , 56] ,\n",
    "              [1122 , 213 , 536 , 591 , 562] \n",
    "    ])"
   ]
  },
  {
   "cell_type": "code",
   "execution_count": 45,
   "id": "8610bcdb",
   "metadata": {},
   "outputs": [
    {
     "name": "stdout",
     "output_type": "stream",
     "text": [
      "[[-2.91984810e-03 -1.39685029e-02 -2.50247024e-03  4.44210385e-04\n",
      "   9.11856144e-04]\n",
      " [-2.05025010e-03  5.42725270e-03  9.72297354e-04  3.01212208e-03\n",
      "  -3.54288056e-04]\n",
      " [ 2.63070683e-01 -5.87366190e-01 -1.05892548e-01  4.24393548e-02\n",
      "  -2.44732431e-03]\n",
      " [-3.58186493e-01  7.87463227e-01  1.56699767e-01 -5.69389017e-02\n",
      "   3.28233591e-03]\n",
      " [ 1.32375630e-01 -2.42074438e-01 -5.91645633e-02  1.73726168e-02\n",
      "  -1.02443760e-03]]\n"
     ]
    }
   ],
   "source": [
    "print(np.linalg.inv(a))"
   ]
  },
  {
   "cell_type": "code",
   "execution_count": 43,
   "id": "d4aa40fe",
   "metadata": {},
   "outputs": [],
   "source": [
    "inv_a = np.linalg.inv(a)"
   ]
  },
  {
   "cell_type": "code",
   "execution_count": 44,
   "id": "9a212f70",
   "metadata": {},
   "outputs": [
    {
     "name": "stdout",
     "output_type": "stream",
     "text": [
      "[[ 1.00000000e+00 -6.33607750e-16 -1.89778748e-15 -2.15756232e-15\n",
      "  -2.43641912e-15]\n",
      " [ 7.63278329e-17  1.00000000e+00  2.77555756e-17  4.51028104e-17\n",
      "   2.08166817e-17]\n",
      " [ 6.33174069e-16 -6.65266453e-16  1.00000000e+00  1.34874750e-15\n",
      "   2.09034179e-15]\n",
      " [-8.39606162e-16  8.98586761e-16 -8.32667268e-17  1.00000000e+00\n",
      "  -6.93889390e-18]\n",
      " [ 2.64545330e-17 -3.57136196e-16  6.22765728e-16  4.58617519e-16\n",
      "   1.00000000e+00]]\n"
     ]
    }
   ],
   "source": [
    "print(np.matmul(inv_a , a))"
   ]
  },
  {
   "cell_type": "markdown",
   "id": "83e55a95",
   "metadata": {},
   "source": [
    "# 9. Generating random numbers"
   ]
  },
  {
   "cell_type": "markdown",
   "id": "4f0e8fe4",
   "metadata": {},
   "source": [
    "## matplotlib for illustrating the generated distributions"
   ]
  },
  {
   "cell_type": "code",
   "execution_count": 67,
   "id": "c11a4a56",
   "metadata": {},
   "outputs": [],
   "source": [
    "import matplotlib.pyplot as plt"
   ]
  },
  {
   "cell_type": "markdown",
   "id": "65881407",
   "metadata": {},
   "source": [
    "## Random float - uniform - between 0 and 1"
   ]
  },
  {
   "cell_type": "code",
   "execution_count": 60,
   "id": "d2f95497",
   "metadata": {},
   "outputs": [],
   "source": [
    "random_float_uniform_0_1  = np.random.rand(100)"
   ]
  },
  {
   "cell_type": "code",
   "execution_count": 61,
   "id": "939cc1eb",
   "metadata": {},
   "outputs": [
    {
     "data": {
      "text/plain": [
       "array([0.57003094, 0.81639607, 0.19488018, 0.30195995, 0.31871791,\n",
       "       0.65134322, 0.21226988, 0.98913401, 0.43785775, 0.58198905,\n",
       "       0.88099872, 0.69422714, 0.4313718 , 0.16577189, 0.6765567 ,\n",
       "       0.20047108, 0.45670533, 0.22417082, 0.1885219 , 0.65542114,\n",
       "       0.70436708, 0.36651657, 0.47652999, 0.18715265, 0.75271343,\n",
       "       0.58177091, 0.66063267, 0.39020839, 0.83176709, 0.09867286,\n",
       "       0.52083077, 0.83890378, 0.10117011, 0.40883563, 0.3324223 ,\n",
       "       0.0972866 , 0.10968524, 0.88910875, 0.98586359, 0.84465567,\n",
       "       0.00620393, 0.07533549, 0.66999928, 0.79973194, 0.02670524,\n",
       "       0.82538647, 0.05058353, 0.72040566, 0.91808054, 0.60081236,\n",
       "       0.08564572, 0.49995577, 0.87529724, 0.39944064, 0.92868382,\n",
       "       0.70507786, 0.16567479, 0.2780909 , 0.8648863 , 0.76554545,\n",
       "       0.72674723, 0.20872269, 0.15456218, 0.69109883, 0.83903942,\n",
       "       0.85419044, 0.67290261, 0.02409243, 0.77460585, 0.79706693,\n",
       "       0.70630342, 0.87291874, 0.93103494, 0.83447599, 0.88682466,\n",
       "       0.93768629, 0.77672253, 0.17169625, 0.04476978, 0.21249254,\n",
       "       0.97207381, 0.5710625 , 0.48402804, 0.79634075, 0.78174836,\n",
       "       0.18169627, 0.27275781, 0.08852114, 0.61403347, 0.20182431,\n",
       "       0.09180171, 0.9340076 , 0.47417971, 0.78601528, 0.54403052,\n",
       "       0.14997956, 0.71978064, 0.38685301, 0.75420617, 0.27403424])"
      ]
     },
     "execution_count": 61,
     "metadata": {},
     "output_type": "execute_result"
    }
   ],
   "source": [
    "random_float_uniform_0_1"
   ]
  },
  {
   "cell_type": "code",
   "execution_count": 65,
   "id": "72779265",
   "metadata": {},
   "outputs": [
    {
     "data": {
      "text/plain": [
       "(array([12., 12.,  7.,  6.,  8.,  7., 10., 13., 17.,  8.]),\n",
       " array([0.00620393, 0.10449694, 0.20278995, 0.30108296, 0.39937596,\n",
       "        0.49766897, 0.59596198, 0.69425499, 0.792548  , 0.890841  ,\n",
       "        0.98913401]),\n",
       " <BarContainer object of 10 artists>)"
      ]
     },
     "execution_count": 65,
     "metadata": {},
     "output_type": "execute_result"
    },
    {
     "data": {
      "image/png": "[encoded data removed]",
      "text/plain": [
       "<Figure size 432x288 with 1 Axes>"
      ]
     },
     "metadata": {
      "needs_background": "light"
     },
     "output_type": "display_data"
    }
   ],
   "source": [
    "plt.hist(random_float_uniform_0_1 )"
   ]
  },
  {
   "cell_type": "markdown",
   "id": "5b7fb702",
   "metadata": {},
   "source": [
    "## Random integer - uniform"
   ]
  },
  {
   "cell_type": "code",
   "execution_count": 66,
   "id": "cb8f7ba3",
   "metadata": {},
   "outputs": [],
   "source": [
    "random_integer_uniform = np.random.randint(5,15 , 3)"
   ]
  },
  {
   "cell_type": "code",
   "execution_count": 53,
   "id": "74686495",
   "metadata": {},
   "outputs": [
    {
     "name": "stdout",
     "output_type": "stream",
     "text": [
      "[ 5 13 11]\n"
     ]
    }
   ],
   "source": [
    "print(random_integer)"
   ]
  },
  {
   "cell_type": "code",
   "execution_count": 68,
   "id": "068ee695",
   "metadata": {},
   "outputs": [
    {
     "data": {
      "text/plain": [
       "(array([1., 0., 0., 0., 0., 0., 0., 1., 0., 1.]),\n",
       " array([ 5. ,  5.8,  6.6,  7.4,  8.2,  9. ,  9.8, 10.6, 11.4, 12.2, 13. ]),\n",
       " <BarContainer object of 10 artists>)"
      ]
     },
     "execution_count": 68,
     "metadata": {},
     "output_type": "execute_result"
    },
    {
     "data": {
      "image/png": "[encoded data removed]",
      "text/plain": [
       "<Figure size 432x288 with 1 Axes>"
      ]
     },
     "metadata": {
      "needs_background": "light"
     },
     "output_type": "display_data"
    }
   ],
   "source": [
    "plt.hist(random_integer)"
   ]
  },
  {
   "cell_type": "markdown",
   "id": "cf82aed1",
   "metadata": {},
   "source": [
    "## Standard random normal"
   ]
  },
  {
   "cell_type": "code",
   "execution_count": 71,
   "id": "59f50c80",
   "metadata": {},
   "outputs": [],
   "source": [
    "standard_random_normal = np.random.randn(10000)"
   ]
  },
  {
   "cell_type": "code",
   "execution_count": 73,
   "id": "43e689b6",
   "metadata": {},
   "outputs": [
    {
     "data": {
      "text/plain": [
       "(array([  1.,   2.,   2.,   2.,   5.,   6.,  10.,  15.,  29.,  36.,  53.,\n",
       "         76.,  90., 116., 163., 187., 264., 282., 321., 390., 459., 470.,\n",
       "        548., 560., 604., 607., 654., 571., 537., 525., 439., 397., 315.,\n",
       "        289., 229., 201., 135., 131.,  91.,  64.,  39.,  28.,  25.,  11.,\n",
       "          6.,   7.,   2.,   4.,   1.,   1.]),\n",
       " array([-3.85372096, -3.70315887, -3.55259678, -3.40203469, -3.2514726 ,\n",
       "        -3.10091051, -2.95034842, -2.79978633, -2.64922424, -2.49866215,\n",
       "        -2.34810006, -2.19753797, -2.04697588, -1.89641379, -1.7458517 ,\n",
       "        -1.59528961, -1.44472752, -1.29416543, -1.14360334, -0.99304125,\n",
       "        -0.84247916, -0.69191707, -0.54135498, -0.39079289, -0.2402308 ,\n",
       "        -0.08966871,  0.06089338,  0.21145548,  0.36201757,  0.51257966,\n",
       "         0.66314175,  0.81370384,  0.96426593,  1.11482802,  1.26539011,\n",
       "         1.4159522 ,  1.56651429,  1.71707638,  1.86763847,  2.01820056,\n",
       "         2.16876265,  2.31932474,  2.46988683,  2.62044892,  2.77101101,\n",
       "         2.9215731 ,  3.07213519,  3.22269728,  3.37325937,  3.52382146,\n",
       "         3.67438355]),\n",
       " <BarContainer object of 50 artists>)"
      ]
     },
     "execution_count": 73,
     "metadata": {},
     "output_type": "execute_result"
    },
    {
     "data": {
      "image/png": "[encoded data removed]",
      "text/plain": [
       "<Figure size 432x288 with 1 Axes>"
      ]
     },
     "metadata": {
      "needs_background": "light"
     },
     "output_type": "display_data"
    }
   ],
   "source": [
    "plt.hist(standard_random_normal , bins = 50)"
   ]
  },
  {
   "cell_type": "markdown",
   "id": "469095d5",
   "metadata": {},
   "source": [
    "## Random normal"
   ]
  },
  {
   "cell_type": "code",
   "execution_count": 78,
   "id": "69021826",
   "metadata": {},
   "outputs": [],
   "source": [
    "random_normal = np.random.normal( 5 ,  3 , 1000)"
   ]
  },
  {
   "cell_type": "code",
   "execution_count": 186,
   "id": "578c4b43",
   "metadata": {},
   "outputs": [
    {
     "data": {
      "text/plain": [
       "(array([ 1.,  0.,  0.,  2.,  2.,  0.,  1.,  7.,  4.,  6.,  8.,  9., 11.,\n",
       "        16., 20., 18., 16., 24., 32., 39., 45., 48., 49., 54., 52., 60.,\n",
       "        52., 60., 41., 49., 45., 43., 33., 26., 23., 16., 20., 16.,  8.,\n",
       "        10.,  5.,  8.,  4.,  4.,  3.,  1.,  4.,  1.,  2.,  2.]),\n",
       " array([-5.34003623, -4.93830071, -4.53656519, -4.13482967, -3.73309415,\n",
       "        -3.33135863, -2.92962311, -2.52788759, -2.12615207, -1.72441655,\n",
       "        -1.32268103, -0.92094551, -0.51920999, -0.11747447,  0.28426105,\n",
       "         0.68599657,  1.08773209,  1.48946761,  1.89120313,  2.29293865,\n",
       "         2.69467417,  3.09640969,  3.49814521,  3.89988073,  4.30161625,\n",
       "         4.70335177,  5.10508729,  5.50682281,  5.90855833,  6.31029385,\n",
       "         6.71202937,  7.11376489,  7.51550041,  7.91723593,  8.31897145,\n",
       "         8.72070696,  9.12244248,  9.524178  ,  9.92591352, 10.32764904,\n",
       "        10.72938456, 11.13112008, 11.5328556 , 11.93459112, 12.33632664,\n",
       "        12.73806216, 13.13979768, 13.5415332 , 13.94326872, 14.34500424,\n",
       "        14.74673976]),\n",
       " <BarContainer object of 50 artists>)"
      ]
     },
     "execution_count": 186,
     "metadata": {},
     "output_type": "execute_result"
    },
    {
     "data": {
      "image/png": "[encoded data removed]",
      "text/plain": [
       "<Figure size 432x288 with 1 Axes>"
      ]
     },
     "metadata": {
      "needs_background": "light"
     },
     "output_type": "display_data"
    }
   ],
   "source": [
    "plt.hist(random_normal , bins = 50)"
   ]
  },
  {
   "cell_type": "markdown",
   "id": "21dbe3d8",
   "metadata": {},
   "source": [
    "# A small Exercise"
   ]
  },
  {
   "cell_type": "code",
   "execution_count": 189,
   "id": "1c612448",
   "metadata": {},
   "outputs": [],
   "source": [
    "x = np.linspace(0 , np.pi * 2 , 100)\n",
    "y = np.sin(x)\n",
    "noise  = np.random.randn(100) /10\n",
    "noisy_y = y+noise"
   ]
  },
  {
   "cell_type": "code",
   "execution_count": 190,
   "id": "efbd3c82",
   "metadata": {},
   "outputs": [
    {
     "data": {
      "text/plain": [
       "[<matplotlib.lines.Line2D at 0x1ee063b40a0>]"
      ]
     },
     "execution_count": 190,
     "metadata": {},
     "output_type": "execute_result"
    },
    {
     "data": {
      "image/png": "[encoded data removed]",
      "text/plain": [
       "<Figure size 432x288 with 1 Axes>"
      ]
     },
     "metadata": {
      "needs_background": "light"
     },
     "output_type": "display_data"
    }
   ],
   "source": [
    "import matplotlib.pyplot as plt\n",
    "plt.plot(y)\n",
    "plt.plot(noisy_y)"
   ]
  }
 ],
 "metadata": {
  "kernelspec": {
   "display_name": "Python 3",
   "language": "python",
   "name": "python3"
  },
  "language_info": {
   "codemirror_mode": {
    "name": "ipython",
    "version": 3
   },
   "file_extension": ".py",
   "mimetype": "text/x-python",
   "name": "python",
   "nbconvert_exporter": "python",
   "pygments_lexer": "ipython3",
   "version": "3.13.1"
  }
 },
 "nbformat": 4,
 "nbformat_minor": 5
}
