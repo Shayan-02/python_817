{
  "nbformat": 4,
  "nbformat_minor": 0,
  "metadata": {
    "colab": {
      "provenance": []
    },
    "kernelspec": {
      "name": "python3",
      "display_name": "Python 3"
    },
    "language_info": {
      "name": "python"
    }
  },
  "cells": [
    {
      "cell_type": "code",
      "execution_count": null,
      "metadata": {
        "id": "deAS5jcmJ8Xm"
      },
      "outputs": [],
      "source": [
        "def sums(a: int, b:int) -> int:\n",
        "  if type(a) != int or type(b) != int:\n",
        "    print(\"please enter numbers\")\n",
        "    return\n",
        "    print(\"continue...\")\n",
        "  res = a + b\n",
        "  return res"
      ]
    },
    {
      "cell_type": "code",
      "source": [
        "sums(\"ali\", \"reza\")"
      ],
      "metadata": {
        "colab": {
          "base_uri": "https://localhost:8080/"
        },
        "id": "0dhww_JBKoI4",
        "outputId": "b3ff457c-8dbf-4c3d-e8c5-c89fc484c66e"
      },
      "execution_count": null,
      "outputs": [
        {
          "output_type": "stream",
          "name": "stdout",
          "text": [
            "please enter numbers\n"
          ]
        }
      ]
    },
    {
      "cell_type": "code",
      "source": [
        "def sub(a, b):\n",
        "  pass"
      ],
      "metadata": {
        "id": "TwOePgVvNkdY"
      },
      "execution_count": null,
      "outputs": []
    },
    {
      "cell_type": "code",
      "source": [
        "def sayHello(name: str, age: int, phone: str) -> str:\n",
        "  \"\"\"\n",
        "  Say hello to user.\n",
        "\n",
        "  Args:\n",
        "      name (str): user first name\n",
        "      age (int): user age\n",
        "      phone (str): user phone number\n",
        "  Returns:\n",
        "      str: hello user first name \\nage \\nphone number\n",
        "    \"\"\"\n",
        "  return f\"hello {name} \\nage {age} \\nphone {phone}\""
      ],
      "metadata": {
        "id": "q_HWIdtLOPJq"
      },
      "execution_count": null,
      "outputs": []
    },
    {
      "cell_type": "code",
      "source": [
        "print(sayHello(\"ali\", 25, \"0987654321\"))"
      ],
      "metadata": {
        "colab": {
          "base_uri": "https://localhost:8080/"
        },
        "id": "nqIMrf7PWf6B",
        "outputId": "c2aa3029-3ff9-4a33-ba1f-5241ba904c43"
      },
      "execution_count": null,
      "outputs": [
        {
          "output_type": "stream",
          "name": "stdout",
          "text": [
            "hello ali \n",
            "age 25 \n",
            "phone 0987654321\n"
          ]
        }
      ]
    },
    {
      "cell_type": "code",
      "source": [
        "def majmoo(*args):\n",
        "  return sum(args)"
      ],
      "metadata": {
        "id": "-B-gYQnvW7Js"
      },
      "execution_count": null,
      "outputs": []
    },
    {
      "cell_type": "code",
      "source": [
        "b = input().split()\n",
        "majmoo(b)"
      ],
      "metadata": {
        "colab": {
          "base_uri": "https://localhost:8080/",
          "height": 245
        },
        "id": "oM-8XFo0XvNo",
        "outputId": "0b5b9a43-41f3-444f-8808-4eb58aef7895"
      },
      "execution_count": null,
      "outputs": [
        {
          "name": "stdout",
          "output_type": "stream",
          "text": [
            "1 2 3 4 5 6 7\n"
          ]
        },
        {
          "output_type": "error",
          "ename": "TypeError",
          "evalue": "unsupported operand type(s) for +: 'int' and 'list'",
          "traceback": [
            "\u001b[0;31m---------------------------------------------------------------------------\u001b[0m",
            "\u001b[0;31mTypeError\u001b[0m                                 Traceback (most recent call last)",
            "\u001b[0;32m<ipython-input-27-4d2f3bbf1f85>\u001b[0m in \u001b[0;36m<cell line: 2>\u001b[0;34m()\u001b[0m\n\u001b[1;32m      1\u001b[0m \u001b[0mb\u001b[0m \u001b[0;34m=\u001b[0m \u001b[0minput\u001b[0m\u001b[0;34m(\u001b[0m\u001b[0;34m)\u001b[0m\u001b[0;34m.\u001b[0m\u001b[0msplit\u001b[0m\u001b[0;34m(\u001b[0m\u001b[0;34m)\u001b[0m\u001b[0;34m\u001b[0m\u001b[0;34m\u001b[0m\u001b[0m\n\u001b[0;32m----> 2\u001b[0;31m \u001b[0mmajmoo\u001b[0m\u001b[0;34m(\u001b[0m\u001b[0mb\u001b[0m\u001b[0;34m)\u001b[0m\u001b[0;34m\u001b[0m\u001b[0;34m\u001b[0m\u001b[0m\n\u001b[0m",
            "\u001b[0;32m<ipython-input-25-0463f0e3e455>\u001b[0m in \u001b[0;36mmajmoo\u001b[0;34m(*args)\u001b[0m\n\u001b[1;32m      1\u001b[0m \u001b[0;32mdef\u001b[0m \u001b[0mmajmoo\u001b[0m\u001b[0;34m(\u001b[0m\u001b[0;34m*\u001b[0m\u001b[0margs\u001b[0m\u001b[0;34m)\u001b[0m\u001b[0;34m:\u001b[0m\u001b[0;34m\u001b[0m\u001b[0;34m\u001b[0m\u001b[0m\n\u001b[0;32m----> 2\u001b[0;31m   \u001b[0;32mreturn\u001b[0m \u001b[0msum\u001b[0m\u001b[0;34m(\u001b[0m\u001b[0margs\u001b[0m\u001b[0;34m)\u001b[0m\u001b[0;34m\u001b[0m\u001b[0;34m\u001b[0m\u001b[0m\n\u001b[0m",
            "\u001b[0;31mTypeError\u001b[0m: unsupported operand type(s) for +: 'int' and 'list'"
          ]
        }
      ]
    },
    {
      "cell_type": "code",
      "source": [
        "def test():\n",
        "  global y\n",
        "  y = 10\n",
        "  return y"
      ],
      "metadata": {
        "id": "G9LNDYp4X017"
      },
      "execution_count": null,
      "outputs": []
    },
    {
      "cell_type": "code",
      "source": [
        "print(test())\n",
        "print(y)"
      ],
      "metadata": {
        "colab": {
          "base_uri": "https://localhost:8080/"
        },
        "id": "0juEetwHZdyT",
        "outputId": "37b0a910-510f-4c8e-f7fd-e342579b0aca"
      },
      "execution_count": null,
      "outputs": [
        {
          "output_type": "stream",
          "name": "stdout",
          "text": [
            "10\n",
            "10\n"
          ]
        }
      ]
    },
    {
      "cell_type": "code",
      "source": [
        "def calc_factorial(x:int)->int:\n",
        "    \"\"\"This is a recursive function\n",
        "    to find the factorial of an integer\"\"\"\n",
        "\n",
        "    if x == 1:\n",
        "        return 1\n",
        "    else:\n",
        "        return (x * calc_factorial(x-1))\n",
        "\n",
        "num = 6\n",
        "print(\"The factorial of\", num, \"is\", calc_factorial(num))"
      ],
      "metadata": {
        "colab": {
          "base_uri": "https://localhost:8080/"
        },
        "id": "jbO_u6mcZhmE",
        "outputId": "bd98f03d-94b7-4bf0-d48d-e6ff0d81c6d6"
      },
      "execution_count": null,
      "outputs": [
        {
          "output_type": "stream",
          "name": "stdout",
          "text": [
            "The factorial of 6 is 720\n"
          ]
        }
      ]
    },
    {
      "cell_type": "code",
      "source": [],
      "metadata": {
        "id": "8z7ZH1YpcjzC"
      },
      "execution_count": null,
      "outputs": []
    }
  ]
}