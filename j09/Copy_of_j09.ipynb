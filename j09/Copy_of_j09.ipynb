{
  "nbformat": 4,
  "nbformat_minor": 0,
  "metadata": {
    "colab": {
      "provenance": []
    },
    "kernelspec": {
      "name": "python3",
      "display_name": "Python 3"
    },
    "language_info": {
      "name": "python"
    }
  },
  "cells": [
    {
      "cell_type": "code",
      "execution_count": null,
      "metadata": {
        "colab": {
          "base_uri": "https://localhost:8080/"
        },
        "id": "8VRooFMQt5z9",
        "outputId": "8b42f4bc-5bfd-4c13-c3f4-5c7f7997c592"
      },
      "outputs": [
        {
          "output_type": "stream",
          "name": "stdout",
          "text": [
            "name (q for quit): 1\n",
            "name (q for quit): 2\n",
            "name (q for quit): q\n",
            "names: ['1', '2']\n"
          ]
        }
      ],
      "source": [
        "x = []\n",
        "while (s := input(\"name (q for quit): \").lower()) != \"q\":\n",
        "    x.append(s)\n",
        "\n",
        "print(\"names:\", x)"
      ]
    },
    {
      "cell_type": "code",
      "source": [
        "x = []\n",
        "exit = [\"q\", \"Q\", \"X\", \"x\"]\n",
        "while (answer := input(\"enter q or Q for exit: \"))not in exit:\n",
        "  x.append(answer)\n",
        "x"
      ],
      "metadata": {
        "colab": {
          "base_uri": "https://localhost:8080/"
        },
        "id": "k_QXDmFat789",
        "outputId": "7953fe4a-e873-4d4d-cc2d-34f37011c9e8"
      },
      "execution_count": null,
      "outputs": [
        {
          "name": "stdout",
          "output_type": "stream",
          "text": [
            "enter q or Q for exit: 1\n",
            "enter q or Q for exit: 2\n",
            "enter q or Q for exit: Q\n"
          ]
        },
        {
          "output_type": "execute_result",
          "data": {
            "text/plain": [
              "['1', '2']"
            ]
          },
          "metadata": {},
          "execution_count": 8
        }
      ]
    },
    {
      "cell_type": "code",
      "source": [
        "print(x:=bool(input()) == bool(\"y\"))"
      ],
      "metadata": {
        "colab": {
          "base_uri": "https://localhost:8080/"
        },
        "id": "HNSxYWY6yji2",
        "outputId": "4950cbe7-1c76-42b4-bb83-8645d2024e5d"
      },
      "execution_count": null,
      "outputs": [
        {
          "output_type": "stream",
          "name": "stdout",
          "text": [
            "0\n",
            "True\n"
          ]
        }
      ]
    },
    {
      "cell_type": "code",
      "source": [
        "def sums(a=0, b=0):\n",
        "  print(\"a:\", a, \"b:\", b)\n",
        "  return a + b\n",
        "sums(b = 10)"
      ],
      "metadata": {
        "colab": {
          "base_uri": "https://localhost:8080/"
        },
        "id": "JwDYOekV04Dk",
        "outputId": "9a18176e-f4f7-4811-e718-afea9900b333"
      },
      "execution_count": null,
      "outputs": [
        {
          "output_type": "stream",
          "name": "stdout",
          "text": [
            "a: 0 b: 10\n"
          ]
        },
        {
          "output_type": "execute_result",
          "data": {
            "text/plain": [
              "10"
            ]
          },
          "metadata": {},
          "execution_count": 17
        }
      ]
    },
    {
      "cell_type": "code",
      "source": [],
      "metadata": {
        "id": "93jxkbb613QR"
      },
      "execution_count": null,
      "outputs": []
    }
  ]
}