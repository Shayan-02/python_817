{
 "cells": [
  {
   "cell_type": "code",
   "execution_count": 5,
   "metadata": {},
   "outputs": [
    {
     "name": "stdout",
     "output_type": "stream",
     "text": [
      "22\n",
      "33\n"
     ]
    }
   ],
   "source": [
    "def myfunc(n):\n",
    "    return lambda a: a * n\n",
    "\n",
    "\n",
    "mydoubler = myfunc(2)\n",
    "mytripler = myfunc(3)\n",
    "\n",
    "print(mydoubler(11))\n",
    "print(mytripler(11))"
   ]
  },
  {
   "cell_type": "code",
   "execution_count": 7,
   "metadata": {},
   "outputs": [
    {
     "name": "stdout",
     "output_type": "stream",
     "text": [
      "2\n",
      "2\n"
     ]
    }
   ],
   "source": [
    "def Maxi(a:int, b:int) -> int:\n",
    "    if a > b:\n",
    "        return a\n",
    "    else:\n",
    "        return b\n",
    "\n",
    "\n",
    "print(Maxi(1, 2))\n",
    "print(Maxi(2, -3))"
   ]
  },
  {
   "cell_type": "code",
   "execution_count": null,
   "metadata": {},
   "outputs": [
    {
     "name": "stdout",
     "output_type": "stream",
     "text": [
      "2\n",
      "2\n"
     ]
    }
   ],
   "source": [
    "Max = lambda a, b: a if a > b else b\n",
    "print(Max(1, 2))\n",
    "print(Max(2, -3))"
   ]
  },
  {
   "cell_type": "code",
   "execution_count": 16,
   "metadata": {},
   "outputs": [
    {
     "name": "stdout",
     "output_type": "stream",
     "text": [
      "[100, 144, 196, 256, 324, 400]\n"
     ]
    }
   ],
   "source": [
    "x = [i**2 for i in range(10, 21) if i % 2 == 0]\n",
    "print(x)"
   ]
  },
  {
   "cell_type": "code",
   "execution_count": 22,
   "metadata": {},
   "outputs": [
    {
     "name": "stdout",
     "output_type": "stream",
     "text": [
      "[(1, 2), (1, 4), (1, 6), (2, 4), (2, 6), (3, 2), (3, 4), (3, 6)]\n"
     ]
    }
   ],
   "source": [
    "s1 = [1, 2, 3]\n",
    "s2 = [2, 4, 6]\n",
    "lst = []\n",
    "for i in s1:\n",
    "    for j in s2:\n",
    "        if i != j:\n",
    "            lst.append((i, j))\n",
    "print(lst)"
   ]
  },
  {
   "cell_type": "code",
   "execution_count": 21,
   "metadata": {},
   "outputs": [
    {
     "name": "stdout",
     "output_type": "stream",
     "text": [
      "[(1, 2), (1, 4), (1, 6), (2, 4), (2, 6), (3, 2), (3, 4), (3, 6)]\n"
     ]
    }
   ],
   "source": [
    "x = [(i, j) for i in s1 for j in s2 if i != j]\n",
    "print(x)"
   ]
  },
  {
   "cell_type": "code",
   "execution_count": 23,
   "metadata": {},
   "outputs": [
    {
     "name": "stdout",
     "output_type": "stream",
     "text": [
      "['r', 'e', 'z', 'a', 'a', 'l', 'i', 'n', 'e', 'd', 'a', 's', 'a', 'h', 'e', 'l']\n"
     ]
    }
   ],
   "source": [
    "names = [\"reza\", \"ali\", \"neda\", \"sahel\"]\n",
    "x = [ch for name in names for ch in name]\n",
    "print(x)"
   ]
  },
  {
   "cell_type": "code",
   "execution_count": 25,
   "metadata": {},
   "outputs": [
    {
     "name": "stdout",
     "output_type": "stream",
     "text": [
      "['r', 'e', 'z', 'a', 'a', 'l', 'i', 'n', 'e', 'd', 'a', 's', 'a', 'h', 'e', 'l']\n"
     ]
    }
   ],
   "source": [
    "y = []\n",
    "for name in names:\n",
    "    for ch in name:\n",
    "        y.append(ch)\n",
    "print(y)"
   ]
  },
  {
   "cell_type": "code",
   "execution_count": 31,
   "metadata": {},
   "outputs": [
    {
     "name": "stdout",
     "output_type": "stream",
     "text": [
      "<class 'list'>\n"
     ]
    }
   ],
   "source": [
    "a = [[2, 3, 4], [1, 4, 16, 64], [3, 6, 9, 12]]\n",
    "\n",
    "sortList = lambda x: (sorted(i) for i in x)\n",
    "secondLargest = lambda x, f: [max(y) for y in f(x)]\n",
    "res = secondLargest(a, sortList)\n",
    "\n",
    "print(type(res))"
   ]
  },
  {
   "cell_type": "code",
   "execution_count": 32,
   "metadata": {},
   "outputs": [
    {
     "name": "stdout",
     "output_type": "stream",
     "text": [
      "[5, 7, 97, 77, 23, 73, 61]\n"
     ]
    }
   ],
   "source": [
    "a = [5, 7, 22, 97, 54, 62, 77, 23, 73, 61]\n",
    "\n",
    "final_list = list(filter(lambda x: (x % 2 != 0), a))\n",
    "print(final_list)"
   ]
  },
  {
   "cell_type": "code",
   "execution_count": 33,
   "metadata": {},
   "outputs": [
    {
     "name": "stdout",
     "output_type": "stream",
     "text": [
      "[10, 14, 44, 194, 108, 124, 154, 46, 146, 122]\n"
     ]
    }
   ],
   "source": [
    "li = [5, 7, 22, 97, 54, 62, 77, 23, 73, 61]\n",
    "\n",
    "def final(x: list[int]) -> list[int]:\n",
    "    final_list = []\n",
    "    for i in x:\n",
    "        final_list.append(i * 2)\n",
    "    return final_list\n",
    "\n",
    "print(final(li))"
   ]
  },
  {
   "cell_type": "code",
   "execution_count": 34,
   "metadata": {},
   "outputs": [
    {
     "name": "stdout",
     "output_type": "stream",
     "text": [
      "[10, 14, 44, 194, 108, 124, 154, 46, 146, 122]\n"
     ]
    }
   ],
   "source": [
    "li = [5, 7, 22, 97, 54, 62, 77, 23, 73, 61]\n",
    "\n",
    "final_list = list(map(lambda x: x * 2, li))\n",
    "print(final_list)"
   ]
  },
  {
   "cell_type": "code",
   "execution_count": 36,
   "metadata": {},
   "outputs": [
    {
     "name": "stdout",
     "output_type": "stream",
     "text": [
      "[True, True, True, True, True, False, True, True, True, True, True]\n"
     ]
    }
   ],
   "source": [
    "li = [5, 7, 22, 97, 54, 0, 62, 77, 23, 73, 61]\n",
    "\n",
    "final_list = list(map(bool, li))\n",
    "print(final_list)"
   ]
  },
  {
   "cell_type": "code",
   "execution_count": null,
   "metadata": {},
   "outputs": [
    {
     "name": "stdout",
     "output_type": "stream",
     "text": [
      "50584082283682972531597145031116684432919697637432186296236438236585816549408881209731168736694108200402927334039712939988840083406541215016780493443075129977760129052550157324400704562284982160993928605012810242088800656290245643710199643370501009223998256342952876000554556599261961984372423260539653284253020998189096488547490460113846303119649755624939550117660213405808421596408556853552723222038174182669759411316619068829518865968700798691089512144113303366395965395215569877830829447479383225179627246230193383741013331366766419325520324534268821353438127789577105384841910983173052348680941690057944111165154064151113068705227802271877241947616168834127132153833220842206870102545055926147271108796454796866603408914901775048091200855914024198035591564186249068320551340977429852071902009101781002481765963086264533438242311004812763106596017015074471694499241317654422169409412812339648621877059974854718969612166106822741042518432467197971347171856612592376061141058845823765188671013230119842461267772175441933170297245215324709694461339596305356918138312096314149537586902659934018288145901343046432709071495783668464349865406126983212829198261084724982762067906310904842305999534383436276230962499540545340853593596351050849671166503406960906219514214473988373248469001451977500065643913556454279837615633835360867145818871490592191004325751339845021814326098657402417122936691876880126446425994308300795643765992444121245593644664877533863250731457890031433189978876011500403543596924925742170916969868803447324319040575236417931974000620475795577031340856928707311023712547807209691937469957255147901482536218361819820019095446670227537922239385089178506346687082723500263569056624694031739505564433870174756072891706525240711759382475965645886650054978675430792314513666687871258219032115242770855002067347904962358880412321493813426132477980312955168347466443065649485978760142898794564580138162506514201712647595874289730043140292983937029356548106306026607706662990939856004972982690912296715436943905318169233757342614515241868255296728522724796341350984594294983972974831177385624637145298248612273286385832402212313487797403836840592649164247079870744708955066834332598411407000416062373915337957441806793212890625\n"
     ]
    }
   ],
   "source": [
    "from functools import reduce\n",
    "\n",
    "a = [5, 8, 10, 20, 50, 100]\n",
    "\n",
    "total = reduce((lambda x, y: x ** y), a)\n",
    "print(total)"
   ]
  },
  {
   "cell_type": "code",
   "execution_count": null,
   "metadata": {},
   "outputs": [],
   "source": [
    "lst = [x for x in range(10) if x % 2 == 0]\n",
    "print(lst)# Output: [0, 2, 4, 6, 8]"
   ]
  },
  {
   "cell_type": "code",
   "execution_count": 50,
   "metadata": {},
   "outputs": [
    {
     "name": "stdout",
     "output_type": "stream",
     "text": [
      "[(1, 1), (1, 2), (1, 3), (2, 1), (2, 2), (2, 3), (3, 1), (3, 2), (3, 3)]\n"
     ]
    }
   ],
   "source": [
    "s1 = [1,2,3]\n",
    "s2 = [1,2,3]\n",
    "l2 = [(x, y) for x in s1 for y in s2]\n",
    "print(l2)"
   ]
  },
  {
   "cell_type": "code",
   "execution_count": 76,
   "metadata": {},
   "outputs": [
    {
     "name": "stdout",
     "output_type": "stream",
     "text": [
      "[1, 4, 7, 10]\n",
      "[2, 5, 8, 11]\n",
      "[3, 6, 9, 12]\n",
      "[1, 2, 3]\n",
      "[4, 5, 6]\n",
      "[7, 8, 9]\n",
      "[10, 11, 12]\n"
     ]
    }
   ],
   "source": [
    "matrix = [[1, 2, 3], [4, 5, 6], [7, 8, 9], [10, 11, 12]]\n",
    "t = [[row[i] for row in matrix] for i in range(3)]\n",
    "for j in t:\n",
    "    print(j)\n",
    "\n",
    "matrix2 = [[row[i] for row in t] for i in range(4)]\n",
    "for _ in matrix2:\n",
    "    print(_)"
   ]
  },
  {
   "cell_type": "code",
   "execution_count": 79,
   "metadata": {},
   "outputs": [
    {
     "name": "stdout",
     "output_type": "stream",
     "text": [
      "[(1, 5, 9), (2, 6, 10), (3, 7, 11), (4, 8, 12)]\n",
      "[(1, 4, 7, 10), (2, 5, 8, 11), (3, 6, 9, 12)]\n",
      "[[1, 4, 7, 10], [2, 5, 8, 11], [3, 6, 9, 12]]\n"
     ]
    }
   ],
   "source": [
    "x = [1, 2, 3, 4]\n",
    "y = [5, 6, 7, 8]\n",
    "z = [9, 10, 11, 12]\n",
    "matrix = [[1, 2, 3], [4, 5, 6], [7, 8, 9], [10, 11, 12]]\n",
    "z = list(zip(x, y, z))\n",
    "print(z)\n",
    "print(list(zip(*matrix)))\n",
    "print([list(i) for i in list(zip(*matrix))])"
   ]
  },
  {
   "cell_type": "code",
   "execution_count": null,
   "metadata": {},
   "outputs": [
    {
     "data": {
      "text/plain": [
       "[2, 4]"
      ]
     },
     "execution_count": 81,
     "metadata": {},
     "output_type": "execute_result"
    }
   ],
   "source": [
    "print(list(filter(lambda x: x % 2 == 0, [1, 2, 3, 4, 5])))  # Output: [2, 4]"
   ]
  },
  {
   "cell_type": "code",
   "execution_count": 82,
   "metadata": {},
   "outputs": [
    {
     "name": "stdout",
     "output_type": "stream",
     "text": [
      "names: ['ali', \"reza'\", 'saeed']\n"
     ]
    }
   ],
   "source": [
    "x = []\n",
    "while (s := input(\"name (q for quit): \").lower()) != \"q\":\n",
    "    x.append(s)\n",
    "\n",
    "print(\"names:\", x)"
   ]
  },
  {
   "cell_type": "code",
   "execution_count": 84,
   "metadata": {},
   "outputs": [
    {
     "data": {
      "text/plain": [
       "15"
      ]
     },
     "execution_count": 84,
     "metadata": {},
     "output_type": "execute_result"
    }
   ],
   "source": [
    "eval(input())"
   ]
  }
 ],
 "metadata": {
  "kernelspec": {
   "display_name": "Python 3",
   "language": "python",
   "name": "python3"
  },
  "language_info": {
   "codemirror_mode": {
    "name": "ipython",
    "version": 3
   },
   "file_extension": ".py",
   "mimetype": "text/x-python",
   "name": "python",
   "nbconvert_exporter": "python",
   "pygments_lexer": "ipython3",
   "version": "3.12.4"
  }
 },
 "nbformat": 4,
 "nbformat_minor": 2
}
